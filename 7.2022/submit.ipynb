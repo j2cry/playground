{
 "cells": [
  {
   "cell_type": "code",
   "execution_count": 1,
   "metadata": {},
   "outputs": [],
   "source": [
    "import pathlib\n",
    "import numpy as np\n",
    "import pandas as pd\n",
    "\n",
    "from sklearn.preprocessing import RobustScaler, MinMaxScaler, MaxAbsScaler, PowerTransformer\n",
    "from sklearn.cluster import KMeans\n",
    "from sklearn.mixture import GaussianMixture\n",
    "\n",
    "from tqdm import tqdm"
   ]
  },
  {
   "cell_type": "code",
   "execution_count": 4,
   "metadata": {},
   "outputs": [],
   "source": [
    "# load\n",
    "data_path = pathlib.Path().joinpath('data', 'data.csv')\n",
    "data = pd.read_csv(data_path, index_col='id')\n",
    "\n",
    "# int as dummies\n",
    "# int_columns = data.columns[data.dtypes == int]\n",
    "# dummies = pd.get_dummies(data[int_columns].astype('category'))\n",
    "# data = pd.concat([data.drop(int_columns, axis=1), dummies], axis=1)\n",
    "\n",
    "# PowerTransform int\n",
    "# int_columns = data.columns[data.dtypes == int]\n",
    "# data[int_columns] = power_transform(data[int_columns])\n",
    "\n",
    "# prepare data\n",
    "scaled = make_pipeline(\n",
    "    # RobustScaler(),\n",
    "    PowerTransformer(),\n",
    "    MaxAbsScaler(),\n",
    ").fit_transform(data)"
   ]
  },
  {
   "cell_type": "code",
   "execution_count": 9,
   "metadata": {},
   "outputs": [],
   "source": [
    "# # Kaggle 0.23745\n",
    "# km = KMeans(n_clusters=5, random_state=17).fit(scaled)\n",
    "# predicted = km.predict(scaled)"
   ]
  },
  {
   "cell_type": "code",
   "execution_count": 5,
   "metadata": {},
   "outputs": [],
   "source": [
    "# Kaggle 0.50762: MinMaxScaler\n",
    "# Kaggle 0.58013: MaxAbsScaler + PowerTransformer\n",
    "# gmm = GaussianMixture(n_components=7, random_state=17).fit(scaled)\n",
    "# predicted = gmm.predict(scaled)"
   ]
  },
  {
   "cell_type": "code",
   "execution_count": null,
   "metadata": {},
   "outputs": [],
   "source": [
    "def multiple_clustering(X, estimator, *, frac=0.7, iters=3, seed=None):\n",
    "    n_clusters = 7\n",
    "    assert (frac > 0) and (frac <= 1), \"frac must be > 0 and <= 1\"\n",
    "    np.random.seed(seed)\n",
    "\n",
    "    labels = []\n",
    "    score = np.zeros((X.shape[0], n_clusters))\n",
    "    probability = np.zeros((X.shape[0], n_clusters))\n",
    "    n_feats = np.ceil(frac * X.shape[1]).astype(int)\n",
    "    for i in tqdm(range(iters), desc='fit', total=iters):       # parallel?\n",
    "        feats = np.random.choice(range(X.shape[1]), n_feats, replace=False)\n",
    "        estimator.set_params(random_state=np.random.randint(2 ** 16))\n",
    "        estimator.fit(X[:, feats])\n",
    "        proba = estimator.predict_proba(X[:, feats])\n",
    "        cluster = proba.argmax(axis=1)\n",
    "        \n",
    "        # translate labels\n",
    "        order = pd.Series(cluster).value_counts().index\n",
    "        remap = dict(zip(order, range(n_clusters)))\n",
    "        lb = np.vectorize(remap.get)(cluster)\n",
    "        labels.append(lb)\n",
    "        # update proba\n",
    "        probability += proba[:, order]\n",
    "        # calc mean vec\n",
    "        mean_vec = [X[lb == cl].mean(axis=0) for cl in range(n_clusters)]\n",
    "        if i == 0:\n",
    "            base_mean_vec = np.copy(mean_vec)\n",
    "        # distance & weights\n",
    "        dist = pairwise_distances(base_mean_vec, mean_vec, metric='euclidean')\n",
    "        weights = 1 / (1 + dist ** 2)\n",
    "        # addition\n",
    "        score += proba[:, order] @ weights.T\n",
    "\n",
    "    # bundle translated labels\n",
    "    bundle = np.c_[labels].T\n",
    "    # count labels\n",
    "    counter = np.apply_along_axis(lambda row: dict(zip(*np.unique(row, return_counts=True))), 1, bundle)\n",
    "    count = pd.DataFrame(list(counter)).fillna(0)[range(n_clusters)].values\n",
    "    return score, count, probability"
   ]
  },
  {
   "cell_type": "code",
   "execution_count": null,
   "metadata": {},
   "outputs": [],
   "source": [
    "# Kaggle 0.59826\n",
    "scr, cnt, prb = multiple_clustering(scaled, BayesianGaussianMixture(n_components=7, max_iter=150, n_init=3, tol=0.01), frac=1, iters=150, seed=17)\n",
    "predicted = scr.argmax(axis=1)\n",
    "# predicted = cnt.argmax(axis=1)\n",
    "# predicted = prb.argmax(axis=1)"
   ]
  },
  {
   "cell_type": "code",
   "execution_count": null,
   "metadata": {},
   "outputs": [],
   "source": []
  },
  {
   "cell_type": "code",
   "execution_count": 6,
   "metadata": {},
   "outputs": [
    {
     "data": {
      "text/html": [
       "<div>\n",
       "<style scoped>\n",
       "    .dataframe tbody tr th:only-of-type {\n",
       "        vertical-align: middle;\n",
       "    }\n",
       "\n",
       "    .dataframe tbody tr th {\n",
       "        vertical-align: top;\n",
       "    }\n",
       "\n",
       "    .dataframe thead th {\n",
       "        text-align: right;\n",
       "    }\n",
       "</style>\n",
       "<table border=\"1\" class=\"dataframe\">\n",
       "  <thead>\n",
       "    <tr style=\"text-align: right;\">\n",
       "      <th></th>\n",
       "      <th>Id</th>\n",
       "      <th>Predicted</th>\n",
       "    </tr>\n",
       "  </thead>\n",
       "  <tbody>\n",
       "    <tr>\n",
       "      <th>0</th>\n",
       "      <td>0</td>\n",
       "      <td>2</td>\n",
       "    </tr>\n",
       "    <tr>\n",
       "      <th>1</th>\n",
       "      <td>1</td>\n",
       "      <td>3</td>\n",
       "    </tr>\n",
       "    <tr>\n",
       "      <th>2</th>\n",
       "      <td>2</td>\n",
       "      <td>2</td>\n",
       "    </tr>\n",
       "    <tr>\n",
       "      <th>3</th>\n",
       "      <td>3</td>\n",
       "      <td>5</td>\n",
       "    </tr>\n",
       "    <tr>\n",
       "      <th>4</th>\n",
       "      <td>4</td>\n",
       "      <td>0</td>\n",
       "    </tr>\n",
       "    <tr>\n",
       "      <th>...</th>\n",
       "      <td>...</td>\n",
       "      <td>...</td>\n",
       "    </tr>\n",
       "    <tr>\n",
       "      <th>97995</th>\n",
       "      <td>97995</td>\n",
       "      <td>3</td>\n",
       "    </tr>\n",
       "    <tr>\n",
       "      <th>97996</th>\n",
       "      <td>97996</td>\n",
       "      <td>6</td>\n",
       "    </tr>\n",
       "    <tr>\n",
       "      <th>97997</th>\n",
       "      <td>97997</td>\n",
       "      <td>1</td>\n",
       "    </tr>\n",
       "    <tr>\n",
       "      <th>97998</th>\n",
       "      <td>97998</td>\n",
       "      <td>4</td>\n",
       "    </tr>\n",
       "    <tr>\n",
       "      <th>97999</th>\n",
       "      <td>97999</td>\n",
       "      <td>6</td>\n",
       "    </tr>\n",
       "  </tbody>\n",
       "</table>\n",
       "<p>98000 rows × 2 columns</p>\n",
       "</div>"
      ],
      "text/plain": [
       "          Id  Predicted\n",
       "0          0          2\n",
       "1          1          3\n",
       "2          2          2\n",
       "3          3          5\n",
       "4          4          0\n",
       "...      ...        ...\n",
       "97995  97995          3\n",
       "97996  97996          6\n",
       "97997  97997          1\n",
       "97998  97998          4\n",
       "97999  97999          6\n",
       "\n",
       "[98000 rows x 2 columns]"
      ]
     },
     "execution_count": 6,
     "metadata": {},
     "output_type": "execute_result"
    }
   ],
   "source": [
    "# save submission\n",
    "sub_path = pathlib.Path().joinpath('data', 'sample_submission.csv')\n",
    "sub = pd.read_csv(sub_path)\n",
    "sub['Predicted'] = predicted\n",
    "sub.to_csv('submission.csv', index=False)\n",
    "sub"
   ]
  },
  {
   "cell_type": "code",
   "execution_count": null,
   "metadata": {},
   "outputs": [],
   "source": [
    "#"
   ]
  }
 ],
 "metadata": {
  "kernelspec": {
   "display_name": "Python 3.9.12 ('jupyter_default')",
   "language": "python",
   "name": "python3"
  },
  "language_info": {
   "codemirror_mode": {
    "name": "ipython",
    "version": 3
   },
   "file_extension": ".py",
   "mimetype": "text/x-python",
   "name": "python",
   "nbconvert_exporter": "python",
   "pygments_lexer": "ipython3",
   "version": "3.9.12"
  },
  "orig_nbformat": 4,
  "vscode": {
   "interpreter": {
    "hash": "23a8a6843721b26098060b435da282c6499d0f0384483463012990926fcfc80c"
   }
  }
 },
 "nbformat": 4,
 "nbformat_minor": 2
}
