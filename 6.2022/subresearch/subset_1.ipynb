{
 "cells": [
  {
   "cell_type": "code",
   "execution_count": 1,
   "metadata": {},
   "outputs": [],
   "source": [
    "import sys\n",
    "import pathlib\n",
    "sys.path.append(pathlib.Path().cwd().parent.as_posix())\n",
    "\n",
    "import auxiliary as aux\n",
    "\n",
    "import numpy as np\n",
    "import pandas as pd\n",
    "import matplotlib.pyplot as plt\n",
    "\n",
    "from sklearn.pipeline import make_pipeline\n",
    "from sklearn.impute import SimpleImputer\n",
    "from sklearn.linear_model import SGDRegressor\n",
    "from sklearn.tree import DecisionTreeRegressor\n",
    "from sklearn.ensemble import RandomForestRegressor\n",
    "from lightgbm import LGBMRegressor\n",
    "\n",
    "\n",
    "valid_true, valid = aux.train_valid_split(aux.data, frac=0.0125, seed=19)\n",
    "sn = 1      # subset number"
   ]
  },
  {
   "cell_type": "markdown",
   "metadata": {},
   "source": [
    "## statistics"
   ]
  },
  {
   "cell_type": "code",
   "execution_count": 13,
   "metadata": {},
   "outputs": [
    {
     "name": "stderr",
     "output_type": "stream",
     "text": [
      "Final validation: 100%|██████████| 15/15 [00:00<00:00, 422.15it/s]\n"
     ]
    },
    {
     "name": "stdout",
     "output_type": "stream",
     "text": [
      "Final validation score: 0.9458409606286409\n",
      "Overall final score: 0.07871724952961066\n"
     ]
    }
   ],
   "source": [
    "predicted = aux.ImputeHelper(\n",
    "    aux.Step(aux.transformer, aux.subcol[sn], imputer=SimpleImputer(strategy='mean')),\n",
    ").run(valid, validate_on=valid_true)"
   ]
  },
  {
   "cell_type": "code",
   "execution_count": 16,
   "metadata": {},
   "outputs": [
    {
     "name": "stderr",
     "output_type": "stream",
     "text": [
      "Final validation: 100%|██████████| 15/15 [00:00<00:00, 380.51it/s]\n"
     ]
    },
    {
     "name": "stdout",
     "output_type": "stream",
     "text": [
      "Final validation score: 0.946407242477418\n",
      "Overall final score: 0.07875267965525354\n"
     ]
    }
   ],
   "source": [
    "predicted = aux.ImputeHelper(\n",
    "    aux.Step(aux.transformer, aux.subcol[sn], imputer=SimpleImputer(strategy='median')),\n",
    ").run(valid, validate_on=valid_true)"
   ]
  },
  {
   "cell_type": "code",
   "execution_count": 40,
   "metadata": {},
   "outputs": [
    {
     "name": "stdout",
     "output_type": "stream",
     "text": [
      "Stats contain NaN, so data was not filled in completely!\n"
     ]
    },
    {
     "name": "stderr",
     "output_type": "stream",
     "text": [
      "Final validation: 100%|██████████| 15/15 [00:00<00:00, 409.07it/s]\n"
     ]
    },
    {
     "name": "stdout",
     "output_type": "stream",
     "text": [
      "Final validation score: 0.9459950582305936\n",
      "Overall final score: 0.07872988528282197\n"
     ]
    }
   ],
   "source": [
    "predicted = aux.ImputeHelper(\n",
    "    aux.Step(aux.groupstat, aux.subcol[2] + aux.subcol[sn], gcol=['F_2_4', 'F_2_8']),\n",
    "    aux.Step(aux.transformer, aux.subcol[sn], imputer=SimpleImputer()),\n",
    ").run(valid, validate_on=valid_true)"
   ]
  },
  {
   "cell_type": "markdown",
   "metadata": {},
   "source": [
    "## predictor"
   ]
  },
  {
   "cell_type": "code",
   "execution_count": 4,
   "metadata": {},
   "outputs": [
    {
     "name": "stderr",
     "output_type": "stream",
     "text": [
      "100%|██████████| 15/15 [00:54<00:00,  3.61s/it, avg. score=0.933]\n",
      "Final validation: 100%|██████████| 15/15 [00:00<00:00, 376.01it/s]\n"
     ]
    },
    {
     "name": "stdout",
     "output_type": "stream",
     "text": [
      "Final validation score: 0.9468399368083408\n",
      "Overall final score: 0.07880115193845771\n"
     ]
    }
   ],
   "source": [
    "predicted = aux.ImputeHelper(\n",
    "    aux.Step(aux.predictor, aux.subcol[sn], estimator=LGBMRegressor(random_state=7, n_jobs=-1, n_estimators=200, num_leaves=29)),\n",
    ").run(valid, validate_on=valid_true)"
   ]
  },
  {
   "cell_type": "markdown",
   "metadata": {},
   "source": [
    "## mean matching"
   ]
  },
  {
   "cell_type": "code",
   "execution_count": 5,
   "metadata": {},
   "outputs": [
    {
     "name": "stderr",
     "output_type": "stream",
     "text": [
      "Initiate values: 100%|██████████| 15/15 [01:33<00:00,  6.23s/it, avg. score=0.945]\n",
      "Collect remapper: 100%|██████████| 15/15 [00:00<00:00, 3233.35it/s]\n",
      "Final validation: 100%|██████████| 15/15 [00:00<00:00, 483.31it/s]"
     ]
    },
    {
     "name": "stdout",
     "output_type": "stream",
     "text": [
      "Final validation score: 0.9459761479273461\n",
      "Overall final score: 0.07872871604323141\n"
     ]
    },
    {
     "name": "stderr",
     "output_type": "stream",
     "text": [
      "\n"
     ]
    }
   ],
   "source": [
    "pipeline = make_pipeline(\n",
    "    SimpleImputer(),\n",
    "    DecisionTreeRegressor(random_state=7, max_leaf_nodes=50)\n",
    ")\n",
    "\n",
    "predicted = aux.ImputeHelper(\n",
    "    aux.Step(aux.mean_matching, aux.subcol[sn], N=2500, init=pipeline, backend='threading'),\n",
    ").run(valid, validate_on=valid_true)"
   ]
  },
  {
   "cell_type": "code",
   "execution_count": 6,
   "metadata": {},
   "outputs": [
    {
     "name": "stderr",
     "output_type": "stream",
     "text": [
      "Initiate values: 100%|██████████| 15/15 [01:54<00:00,  7.64s/it, avg. score=0.944]\n",
      "Collect remapper: 100%|██████████| 15/15 [00:00<00:00, 5871.09it/s]\n",
      "Final validation: 100%|██████████| 15/15 [00:00<00:00, 402.23it/s]\n"
     ]
    },
    {
     "name": "stdout",
     "output_type": "stream",
     "text": [
      "Final validation score: 0.9459910474734456\n",
      "Overall final score: 0.07872953099368132\n"
     ]
    }
   ],
   "source": [
    "pipeline = make_pipeline(\n",
    "    SimpleImputer(),\n",
    "    DecisionTreeRegressor(random_state=7, max_leaf_nodes=100)\n",
    ")\n",
    "\n",
    "predicted = aux.ImputeHelper(\n",
    "    aux.Step(aux.mean_matching, aux.subcol[sn], N=2500, init=pipeline, backend='threading'),\n",
    ").run(valid, validate_on=valid_true)"
   ]
  },
  {
   "cell_type": "code",
   "execution_count": 7,
   "metadata": {},
   "outputs": [
    {
     "name": "stderr",
     "output_type": "stream",
     "text": [
      "Initiate values: 100%|██████████| 15/15 [00:06<00:00,  2.20it/s, avg. score=0.945]\n",
      "Collect remapper: 100%|██████████| 15/15 [00:00<00:00, 254.37it/s]\n",
      "Final validation: 100%|██████████| 15/15 [00:00<00:00, 423.72it/s]"
     ]
    },
    {
     "name": "stdout",
     "output_type": "stream",
     "text": [
      "Final validation score: 0.9460813265472827\n",
      "Overall final score: 0.07873790926574317\n"
     ]
    },
    {
     "name": "stderr",
     "output_type": "stream",
     "text": [
      "\n"
     ]
    }
   ],
   "source": [
    "predicted = aux.ImputeHelper(\n",
    "    aux.Step(aux.mean_matching, aux.subcol[sn], N=2500, init=LGBMRegressor(random_state=7, n_jobs=-1, n_estimators=5, num_leaves=13), backend='threading'),\n",
    ").run(valid, validate_on=valid_true)"
   ]
  },
  {
   "cell_type": "code",
   "execution_count": null,
   "metadata": {},
   "outputs": [],
   "source": []
  },
  {
   "cell_type": "markdown",
   "metadata": {},
   "source": [
    "## MICE"
   ]
  },
  {
   "cell_type": "code",
   "execution_count": 8,
   "metadata": {},
   "outputs": [
    {
     "name": "stderr",
     "output_type": "stream",
     "text": [
      "Epoch 1 / 5: 100%|██████████| 15/15 [00:06<00:00,  2.31it/s, avg. score=0.946]\n",
      "Epoch 2 / 5: 100%|██████████| 15/15 [00:06<00:00,  2.29it/s, avg. score=0.946]\n",
      "Epoch 3 / 5: 100%|██████████| 15/15 [00:06<00:00,  2.42it/s, avg. score=0.946]\n",
      "Epoch 4 / 5: 100%|██████████| 15/15 [00:06<00:00,  2.41it/s, avg. score=0.946]\n",
      "Epoch 5 / 5: 100%|██████████| 15/15 [00:06<00:00,  2.33it/s, avg. score=0.946]\n",
      "Final validation: 100%|██████████| 15/15 [00:00<00:00, 456.87it/s]"
     ]
    },
    {
     "name": "stdout",
     "output_type": "stream",
     "text": [
      "Final validation score: 0.9467771309784687\n",
      "Overall final score: 0.07879497630442307\n"
     ]
    },
    {
     "name": "stderr",
     "output_type": "stream",
     "text": [
      "\n"
     ]
    }
   ],
   "source": [
    "predicted = aux.ImputeHelper(\n",
    "    aux.Step(aux.mice, aux.subcol[sn], estimator=SGDRegressor(max_iter=1000), epochs=5, seed=11, autosplit=False),\n",
    ").run(valid, validate_on=valid_true)"
   ]
  },
  {
   "cell_type": "code",
   "execution_count": 9,
   "metadata": {},
   "outputs": [
    {
     "name": "stderr",
     "output_type": "stream",
     "text": [
      "Epoch 1 / 5: 100%|██████████| 15/15 [00:45<00:00,  3.04s/it, avg. score=0.946]\n",
      "Epoch 2 / 5: 100%|██████████| 15/15 [00:46<00:00,  3.08s/it, avg. score=0.946]\n",
      "Epoch 3 / 5: 100%|██████████| 15/15 [00:43<00:00,  2.93s/it, avg. score=0.946]\n",
      "Epoch 4 / 5: 100%|██████████| 15/15 [00:44<00:00,  3.00s/it, avg. score=0.946]\n",
      "Epoch 5 / 5: 100%|██████████| 15/15 [00:46<00:00,  3.13s/it, avg. score=0.946]\n",
      "Final validation: 100%|██████████| 15/15 [00:00<00:00, 529.50it/s]"
     ]
    },
    {
     "name": "stdout",
     "output_type": "stream",
     "text": [
      "Final validation score: 0.9458632858361525\n",
      "Overall final score: 0.07871894861898743\n"
     ]
    },
    {
     "name": "stderr",
     "output_type": "stream",
     "text": [
      "\n"
     ]
    }
   ],
   "source": [
    "predicted = aux.ImputeHelper(\n",
    "    aux.Step(aux.mice, aux.subcol[sn], estimator=SGDRegressor(learning_rate='adaptive', eta0=0.1, alpha=0.001, max_iter=1000), epochs=5, seed=11, autosplit=False),\n",
    ").run(valid, validate_on=valid_true)"
   ]
  },
  {
   "cell_type": "markdown",
   "metadata": {},
   "source": [
    "## test"
   ]
  },
  {
   "cell_type": "code",
   "execution_count": 6,
   "metadata": {},
   "outputs": [
    {
     "name": "stdout",
     "output_type": "stream",
     "text": [
      "Using `cosine_stats()` is deprecated! It may take a VERY long time on large data, work unstable or don't work at all.\n",
      "87877 rows in 1758 chunks\n"
     ]
    },
    {
     "name": "stderr",
     "output_type": "stream",
     "text": [
      "100%|██████████| 1758/1758 [07:39<00:00,  3.82it/s]\n"
     ]
    },
    {
     "name": "stdout",
     "output_type": "stream",
     "text": [
      "Some values are NaN. Try decrease threshold.\n"
     ]
    },
    {
     "name": "stderr",
     "output_type": "stream",
     "text": [
      "Final validation: 100%|██████████| 15/15 [00:00<00:00, 483.22it/s]"
     ]
    },
    {
     "name": "stdout",
     "output_type": "stream",
     "text": [
      "Final validation score: 0.9543703617457886\n",
      "Overall final score: 0.07942118458080594\n"
     ]
    },
    {
     "name": "stderr",
     "output_type": "stream",
     "text": [
      "\n"
     ]
    }
   ],
   "source": [
    "pipeline = make_pipeline(\n",
    "    SimpleImputer(),\n",
    "    DecisionTreeRegressor(min_samples_leaf=111)\n",
    ")\n",
    "\n",
    "predicted = aux.ImputeHelper(\n",
    "    # aux.Step(aux.mean_matching, aux.subcol[sn], N=5, init=pipeline, backend='threading', max_fill_nan_count=1),\n",
    "    # aux.Step(aux.mice, aux.subcol[sn], estimator=SGDRegressor(max_iter=1000), epochs=5, seed=11, autosplit=False),\n",
    "    # aux.Step(aux.predictor, aux.subcol[sn], estimator=LGBMRegressor(random_state=7, n_jobs=-1, n_estimators=2000, num_leaves=29), max_fill_nan_count=1),\n",
    "    # aux.Step(aux.transformer, aux.subcol[sn], imputer=SimpleImputer(strategy='mean')),\n",
    "    aux.Step(aux.cosine_stats, aux.subcol[sn], threshold=0.7, subsample=0.05, backend='threading', seed=17),\n",
    "    aux.Step(aux.transformer, aux.subcol[sn], imputer=SimpleImputer(strategy='mean')),\n",
    ").run(valid, validate_on=valid_true)"
   ]
  },
  {
   "cell_type": "code",
   "execution_count": 17,
   "metadata": {},
   "outputs": [],
   "source": [
    "# TRY THIS\n",
    "predicted = aux.ImputeHelper(\n",
    "    aux.Step(aux.cosine_stats, aux.subcol[sn], threshold=0.9, subsample=0.1, backend='threading', seed=17, max_fill_nan_count=1),\n",
    "    # aux.Step(aux.predictor, aux.subcol[sn], estimator=LGBMRegressor(random_state=7, n_jobs=-1, n_estimators=100, num_leaves=29)),\n",
    "    aux.Step(aux.transformer, aux.subcol[sn], imputer=SimpleImputer(strategy='mean')),\n",
    ").run(valid, validate_on=valid_true)"
   ]
  },
  {
   "cell_type": "code",
   "execution_count": 6,
   "metadata": {},
   "outputs": [
    {
     "name": "stderr",
     "output_type": "stream",
     "text": [
      "/home/avagadro/anaconda3/envs/jupyter_default/lib/python3.9/site-packages/sklearn/impute/_iterative.py:699: ConvergenceWarning: [IterativeImputer] Early stopping criterion not reached.\n",
      "  warnings.warn(\n",
      "Final validation: 100%|██████████| 15/15 [00:00<00:00, 326.25it/s]\n"
     ]
    },
    {
     "name": "stdout",
     "output_type": "stream",
     "text": [
      "Final validation score: 0.9464343787314623\n",
      "Overall final score: 0.07876676098004146\n"
     ]
    }
   ],
   "source": [
    "from sklearn.experimental import enable_iterative_imputer\n",
    "from sklearn.impute import IterativeImputer\n",
    "\n",
    "\n",
    "predicted = aux.ImputeHelper(\n",
    "    aux.Step(aux.transformer, aux.subcol[sn], imputer=IterativeImputer(LGBMRegressor(n_jobs=-1, n_estimators=100, num_leaves=29), max_iter=50, random_state=11) ),\n",
    ").run(valid, validate_on=valid_true)"
   ]
  },
  {
   "cell_type": "code",
   "execution_count": 5,
   "metadata": {},
   "outputs": [
    {
     "name": "stderr",
     "output_type": "stream",
     "text": [
      "/home/avagadro/anaconda3/envs/jupyter_default/lib/python3.9/site-packages/sklearn/impute/_iterative.py:699: ConvergenceWarning: [IterativeImputer] Early stopping criterion not reached.\n",
      "  warnings.warn(\n",
      "Final validation: 100%|██████████| 15/15 [00:00<00:00, 453.97it/s]"
     ]
    },
    {
     "name": "stdout",
     "output_type": "stream",
     "text": [
      "Final validation score: 0.9465468724349905\n",
      "Overall final score: 0.07877631765432132\n",
      "CPU times: user 12min 31s, sys: 24.8 s, total: 12min 56s\n",
      "Wall time: 5min 32s\n"
     ]
    },
    {
     "name": "stderr",
     "output_type": "stream",
     "text": [
      "\n"
     ]
    }
   ],
   "source": [
    "%%time\n",
    "predicted = aux.ImputeHelper(\n",
    "    aux.Step(aux.transformer, aux.subcol[sn], imputer=IterativeImputer(SGDRegressor(), max_iter=50, random_state=11) ),\n",
    ").run(valid, validate_on=valid_true)"
   ]
  },
  {
   "cell_type": "code",
   "execution_count": 2,
   "metadata": {},
   "outputs": [
    {
     "name": "stdout",
     "output_type": "stream",
     "text": [
      "Using `cosine_stats()` is deprecated! It may take a VERY long time on large data, work unstable or don't work at all.\n",
      "36834 rows in 737 chunks\n"
     ]
    },
    {
     "name": "stderr",
     "output_type": "stream",
     "text": [
      "100%|██████████| 737/737 [16:36<00:00,  1.35s/it]\n"
     ]
    },
    {
     "name": "stdout",
     "output_type": "stream",
     "text": [
      "Some values are NaN. Try decrease threshold.\n"
     ]
    },
    {
     "name": "stderr",
     "output_type": "stream",
     "text": [
      "Final validation: 100%|██████████| 15/15 [00:00<00:00, 375.66it/s]\n"
     ]
    },
    {
     "name": "stdout",
     "output_type": "stream",
     "text": [
      "Final validation score: 0.948455967517788\n",
      "Overall final score: 0.07893368806759937\n"
     ]
    }
   ],
   "source": [
    "predicted = aux.ImputeHelper(\n",
    "    # Step(transformer, subcol[1], imputer=SimpleImputer()),\n",
    "    # Step(transformer, subcol[1], imputer=IterativeImputer(SGDRegressor(), max_iter=50, random_state=11)),\n",
    "    # Step(transformer, subcol[1], imputer=SimpleImputer(), max_fill_nan_count=1),\n",
    "    aux.Step(aux.cosine_stats, aux.subcol[1], threshold=0.8, subsample=0.5, backend='threading', seed=17, max_fill_nan_count=1),\n",
    "    # Step(predictor, subcol[1], estimator=LGBMRegressor(random_state=7, n_jobs=-1, n_estimators=100, num_leaves=29)),\n",
    "    # Step(mice, subcol[1], estimator=SGDRegressor(), epochs=10, seed=11, autosplit=False),\n",
    "    aux.Step(aux.transformer, aux.subcol[1], imputer=SimpleImputer()),\n",
    ").run(valid, validate_on=valid_true)"
   ]
  },
  {
   "cell_type": "code",
   "execution_count": null,
   "metadata": {},
   "outputs": [],
   "source": []
  },
  {
   "cell_type": "code",
   "execution_count": null,
   "metadata": {},
   "outputs": [],
   "source": [
    "# 0.9458409606286409"
   ]
  }
 ],
 "metadata": {
  "kernelspec": {
   "display_name": "Python 3.9.12 ('jupyter_default')",
   "language": "python",
   "name": "python3"
  },
  "language_info": {
   "codemirror_mode": {
    "name": "ipython",
    "version": 3
   },
   "file_extension": ".py",
   "mimetype": "text/x-python",
   "name": "python",
   "nbconvert_exporter": "python",
   "pygments_lexer": "ipython3",
   "version": "3.9.12"
  },
  "orig_nbformat": 4,
  "vscode": {
   "interpreter": {
    "hash": "23a8a6843721b26098060b435da282c6499d0f0384483463012990926fcfc80c"
   }
  }
 },
 "nbformat": 4,
 "nbformat_minor": 2
}
