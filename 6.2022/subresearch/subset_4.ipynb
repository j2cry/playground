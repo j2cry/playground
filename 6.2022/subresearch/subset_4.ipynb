{
 "cells": [
  {
   "cell_type": "code",
   "execution_count": 1,
   "metadata": {},
   "outputs": [],
   "source": [
    "import sys\n",
    "import pathlib\n",
    "sys.path.append(pathlib.Path().cwd().parent.as_posix())\n",
    "\n",
    "import auxiliary as aux\n",
    "\n",
    "import numpy as np\n",
    "import pandas as pd\n",
    "import matplotlib.pyplot as plt\n",
    "\n",
    "from sklearn.pipeline import make_pipeline\n",
    "from sklearn.impute import SimpleImputer\n",
    "from sklearn.linear_model import SGDRegressor\n",
    "from sklearn.tree import DecisionTreeRegressor\n",
    "from sklearn.ensemble import RandomForestRegressor\n",
    "from lightgbm import LGBMRegressor\n",
    "\n",
    "\n",
    "valid_true, valid = aux.train_valid_split(aux.data, frac=0.0125, seed=19)\n",
    "sn = 4      # subset number"
   ]
  },
  {
   "cell_type": "code",
   "execution_count": 24,
   "metadata": {},
   "outputs": [
    {
     "data": {
      "text/plain": [
       "False"
      ]
     },
     "execution_count": 24,
     "metadata": {},
     "output_type": "execute_result"
    }
   ],
   "source": [
    "L1 = ['a', 'b']\n",
    "L2 = ['c']\n",
    "len(set(L1).intersection(L2)) == len(set(L1)) == len(set(L2))"
   ]
  },
  {
   "cell_type": "markdown",
   "metadata": {},
   "source": [
    "## statistics"
   ]
  },
  {
   "cell_type": "code",
   "execution_count": 9,
   "metadata": {},
   "outputs": [
    {
     "name": "stderr",
     "output_type": "stream",
     "text": [
      "Final validation: 100%|██████████| 15/15 [00:00<00:00, 384.83it/s]\n"
     ]
    },
    {
     "name": "stdout",
     "output_type": "stream",
     "text": [
      "Final validation score: 1.9085581040001287\n",
      "Overall final score: 0.1824617746726912\n"
     ]
    }
   ],
   "source": [
    "predicted = aux.ImputeHelper(\n",
    "    aux.Step(aux.transformer, aux.subcol[sn], imputer=SimpleImputer()),\n",
    ").run(valid, validate_on=valid_true)"
   ]
  },
  {
   "cell_type": "code",
   "execution_count": 4,
   "metadata": {},
   "outputs": [
    {
     "name": "stderr",
     "output_type": "stream",
     "text": [
      "Final validation: 100%|██████████| 15/15 [00:00<00:00, 421.08it/s]\n"
     ]
    },
    {
     "name": "stdout",
     "output_type": "stream",
     "text": [
      "Final validation score: 1.9087085139675106\n",
      "Overall final score: 0.18248992329459227\n"
     ]
    }
   ],
   "source": [
    "predicted = aux.ImputeHelper(\n",
    "    aux.Step(aux.groupstat, aux.subcol[2] + aux.subcol[sn], gcol=['F_2_10']),\n",
    ").run(valid, validate_on=valid_true)"
   ]
  },
  {
   "cell_type": "markdown",
   "metadata": {},
   "source": [
    "## predictor"
   ]
  },
  {
   "cell_type": "code",
   "execution_count": 5,
   "metadata": {},
   "outputs": [
    {
     "name": "stderr",
     "output_type": "stream",
     "text": [
      "100%|██████████| 15/15 [08:59<00:00, 35.96s/it, avg. score=0.555]\n",
      "Final validation: 100%|██████████| 15/15 [00:00<00:00, 442.11it/s]\n"
     ]
    },
    {
     "name": "stdout",
     "output_type": "stream",
     "text": [
      "Final validation score: 0.6478440903133111\n",
      "Overall final score: 0.0603447382289857\n"
     ]
    }
   ],
   "source": [
    "predicted = aux.ImputeHelper(\n",
    "    aux.Step(aux.predictor, aux.subcol[sn], estimator=LGBMRegressor(random_state=7, n_jobs=-1, n_estimators=1500, num_leaves=29)),\n",
    ").run(valid, validate_on=valid_true)"
   ]
  },
  {
   "cell_type": "markdown",
   "metadata": {},
   "source": [
    "## mean matching"
   ]
  },
  {
   "cell_type": "code",
   "execution_count": 6,
   "metadata": {},
   "outputs": [
    {
     "name": "stderr",
     "output_type": "stream",
     "text": [
      "Initiate values: 100%|██████████| 15/15 [01:20<00:00,  5.38s/it, avg. score=1.55]\n",
      "Collect remapper: 100%|██████████| 15/15 [00:00<00:00, 2332.85it/s]\n",
      "Final validation: 100%|██████████| 15/15 [00:00<00:00, 393.98it/s]\n"
     ]
    },
    {
     "name": "stdout",
     "output_type": "stream",
     "text": [
      "Final validation score: 1.9108438206748157\n",
      "Overall final score: 0.1827651397711478\n"
     ]
    }
   ],
   "source": [
    "pipeline = make_pipeline(\n",
    "    SimpleImputer(),\n",
    "    DecisionTreeRegressor(random_state=7, max_leaf_nodes=50)\n",
    ")\n",
    "\n",
    "predicted = aux.ImputeHelper(\n",
    "    aux.Step(aux.mean_matching, aux.subcol[sn], N=2500, init=pipeline, backend='threading'),\n",
    ").run(valid, validate_on=valid_true)"
   ]
  },
  {
   "cell_type": "code",
   "execution_count": 7,
   "metadata": {},
   "outputs": [
    {
     "name": "stderr",
     "output_type": "stream",
     "text": [
      "Initiate values: 100%|██████████| 15/15 [01:26<00:00,  5.78s/it, avg. score=1.49]\n",
      "Collect remapper: 100%|██████████| 15/15 [00:00<00:00, 6456.09it/s]\n",
      "Final validation: 100%|██████████| 15/15 [00:00<00:00, 446.51it/s]"
     ]
    },
    {
     "name": "stdout",
     "output_type": "stream",
     "text": [
      "Final validation score: 1.909850799324801\n",
      "Overall final score: 0.18259287260794207\n"
     ]
    },
    {
     "name": "stderr",
     "output_type": "stream",
     "text": [
      "\n"
     ]
    }
   ],
   "source": [
    "pipeline = make_pipeline(\n",
    "    SimpleImputer(),\n",
    "    DecisionTreeRegressor(random_state=7, max_leaf_nodes=100)\n",
    ")\n",
    "\n",
    "predicted = aux.ImputeHelper(\n",
    "    aux.Step(aux.mean_matching, aux.subcol[sn], N=2500, init=pipeline, backend='threading'),\n",
    ").run(valid, validate_on=valid_true)"
   ]
  },
  {
   "cell_type": "code",
   "execution_count": 8,
   "metadata": {},
   "outputs": [
    {
     "name": "stderr",
     "output_type": "stream",
     "text": [
      "Initiate values: 100%|██████████| 15/15 [00:07<00:00,  1.88it/s, avg. score=1.73]\n",
      "Collect remapper: 100%|██████████| 15/15 [00:00<00:00, 888.18it/s]\n",
      "Final validation: 100%|██████████| 15/15 [00:00<00:00, 401.77it/s]\n"
     ]
    },
    {
     "name": "stdout",
     "output_type": "stream",
     "text": [
      "Final validation score: 1.9107521843225386\n",
      "Overall final score: 0.1827374542731559\n"
     ]
    }
   ],
   "source": [
    "predicted = aux.ImputeHelper(\n",
    "    aux.Step(aux.mean_matching, aux.subcol[sn], N=2500, init=LGBMRegressor(random_state=7, n_jobs=-1, n_estimators=5, num_leaves=13), backend='threading'),\n",
    ").run(valid, validate_on=valid_true)"
   ]
  },
  {
   "cell_type": "code",
   "execution_count": null,
   "metadata": {},
   "outputs": [],
   "source": []
  },
  {
   "cell_type": "markdown",
   "metadata": {},
   "source": [
    "## MICE"
   ]
  },
  {
   "cell_type": "code",
   "execution_count": null,
   "metadata": {},
   "outputs": [],
   "source": [
    "predicted = aux.ImputeHelper(\n",
    "    aux.Step(aux.mice, aux.subcol[sn], estimator=SGDRegressor(max_iter=1000), epochs=5, seed=11, autosplit=False),\n",
    ").run(valid, validate_on=valid_true)"
   ]
  },
  {
   "cell_type": "code",
   "execution_count": null,
   "metadata": {},
   "outputs": [],
   "source": [
    "predicted = aux.ImputeHelper(\n",
    "    aux.Step(aux.mice, aux.subcol[sn], estimator=SGDRegressor(learning_rate='adaptive', eta0=0.1, alpha=0.001, max_iter=1000), epochs=5, seed=11, autosplit=False),\n",
    ").run(valid, validate_on=valid_true)"
   ]
  },
  {
   "cell_type": "code",
   "execution_count": null,
   "metadata": {},
   "outputs": [],
   "source": []
  },
  {
   "cell_type": "markdown",
   "metadata": {},
   "source": [
    "## test"
   ]
  },
  {
   "cell_type": "code",
   "execution_count": 3,
   "metadata": {},
   "outputs": [
    {
     "name": "stderr",
     "output_type": "stream",
     "text": [
      "Epoch 1 / 5: 100%|██████████| 15/15 [00:08<00:00,  1.78it/s, avg. score=0.993]\n",
      "Epoch 2 / 5: 100%|██████████| 15/15 [00:07<00:00,  1.89it/s, avg. score=0.686]\n",
      "Epoch 3 / 5: 100%|██████████| 15/15 [00:08<00:00,  1.84it/s, avg. score=0.669]\n",
      "Epoch 4 / 5: 100%|██████████| 15/15 [00:08<00:00,  1.84it/s, avg. score=0.668]\n",
      "Epoch 5 / 5: 100%|██████████| 15/15 [00:08<00:00,  1.70it/s, avg. score=0.669]\n",
      "Epoch 1 / 5: 0it [00:00, ?it/s]\n",
      "Epoch 2 / 5: 0it [00:00, ?it/s]\n",
      "Epoch 3 / 5: 0it [00:00, ?it/s]\n",
      "Epoch 4 / 5: 0it [00:00, ?it/s]\n",
      "Epoch 5 / 5: 0it [00:00, ?it/s]\n",
      "Epoch 1 / 5: 0it [00:00, ?it/s]\n",
      "Epoch 2 / 5: 0it [00:00, ?it/s]\n",
      "Epoch 3 / 5: 0it [00:00, ?it/s]\n",
      "Epoch 4 / 5: 0it [00:00, ?it/s]\n",
      "Epoch 5 / 5: 0it [00:00, ?it/s]\n",
      "0it [00:00, ?it/s]\n",
      "Final validation: 100%|██████████| 15/15 [00:00<00:00, 451.12it/s]"
     ]
    },
    {
     "name": "stdout",
     "output_type": "stream",
     "text": [
      "Final validation score: 0.9322867447162698\n",
      "Overall final score: 0.0864203314210984\n"
     ]
    },
    {
     "name": "stderr",
     "output_type": "stream",
     "text": [
      "\n"
     ]
    }
   ],
   "source": [
    "predicted = aux.ImputeHelper(\n",
    "    aux.Step(aux.mice, aux.subcol[sn], estimator=SGDRegressor(max_iter=1000), epochs=5, seed=11, autosplit=False, max_fill_nan_count=1),\n",
    "    aux.Step(aux.mice, aux.subcol[sn], estimator=SGDRegressor(max_iter=1000), epochs=5, seed=11, autosplit=False, max_fill_nan_count=1),\n",
    "    aux.Step(aux.mice, aux.subcol[sn], estimator=SGDRegressor(max_iter=1000), epochs=5, seed=11, autosplit=False, max_fill_nan_count=1),\n",
    "    aux.Step(aux.predictor, aux.subcol[sn], estimator=LGBMRegressor(random_state=7, n_jobs=-1, n_estimators=200, num_leaves=29)),\n",
    ").run(valid, validate_on=valid_true)"
   ]
  },
  {
   "cell_type": "code",
   "execution_count": null,
   "metadata": {},
   "outputs": [],
   "source": [
    "# Final validation score: 0.6478440903133111\n",
    "# Overall final score: 0.0603447382289857"
   ]
  }
 ],
 "metadata": {
  "kernelspec": {
   "display_name": "Python 3.9.12 ('jupyter_default')",
   "language": "python",
   "name": "python3"
  },
  "language_info": {
   "codemirror_mode": {
    "name": "ipython",
    "version": 3
   },
   "file_extension": ".py",
   "mimetype": "text/x-python",
   "name": "python",
   "nbconvert_exporter": "python",
   "pygments_lexer": "ipython3",
   "version": "3.9.12"
  },
  "orig_nbformat": 4,
  "vscode": {
   "interpreter": {
    "hash": "23a8a6843721b26098060b435da282c6499d0f0384483463012990926fcfc80c"
   }
  }
 },
 "nbformat": 4,
 "nbformat_minor": 2
}
