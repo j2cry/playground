{
 "cells": [
  {
   "cell_type": "code",
   "execution_count": 1,
   "metadata": {},
   "outputs": [],
   "source": [
    "import auxiliary as aux\n",
    "\n",
    "from sklearn.pipeline import make_pipeline\n",
    "from sklearn.impute import SimpleImputer\n",
    "from lightgbm import LGBMRegressor\n",
    "from sklearn.linear_model import SGDRegressor\n",
    "\n",
    "import tensorflow as tf\n",
    "from keras.models import Sequential\n",
    "from keras.layers import Dense, Input"
   ]
  },
  {
   "cell_type": "code",
   "execution_count": 3,
   "metadata": {},
   "outputs": [],
   "source": [
    "%%time\n",
    "# Kaggle 0.88964\n",
    "predicted = aux.ImputeHelper(\n",
    "    aux.Step(aux.predictor, aux.subcol[4], estimator=LGBMRegressor(random_state=7, n_jobs=-1, n_estimators=5000, num_leaves=29)),\n",
    "    aux.Step(aux.transformer, aux.subcol[1] + aux.subcol[3], imputer=SimpleImputer(strategy='mean')),\n",
    ").run(aux.data)"
   ]
  },
  {
   "cell_type": "code",
   "execution_count": 6,
   "metadata": {},
   "outputs": [
    {
     "name": "stderr",
     "output_type": "stream",
     "text": [
      "100%|██████████| 20/20 [34:51<00:00, 104.58s/it, avg. score=0.621]\n"
     ]
    },
    {
     "name": "stdout",
     "output_type": "stream",
     "text": [
      "Epoch 1/3\n",
      "16451/16451 [==============================] - 36s 2ms/step - loss: 1.0001 - mse: 1.0001\n",
      "Epoch 2/3\n",
      "16451/16451 [==============================] - 36s 2ms/step - loss: 1.0001 - mse: 1.0001\n",
      "Epoch 3/3\n",
      "16451/16451 [==============================] - 36s 2ms/step - loss: 1.0000 - mse: 1.0000\n",
      "16451/16451 [==============================] - 19s 1ms/step\n",
      "14800/14800 [==============================] - 18s 1ms/step\n"
     ]
    }
   ],
   "source": [
    "# tf.random.set_seed(11)\n",
    "\n",
    "# model = Sequential([\n",
    "#     Input(shape=(45, )),\n",
    "#     Dense(512, activation='tanh'),\n",
    "#     Dense(256, activation='sigmoid'),\n",
    "#     Dense(35, activation='tanh'),\n",
    "# ])\n",
    "\n",
    "# model.compile(optimizer='ftrl', loss='mse', metrics='mse')\n",
    "# pipeline = make_pipeline(\n",
    "#     SimpleImputer(),\n",
    "#     model\n",
    "# )\n",
    "\n",
    "# add_cols = ['F_1_7', 'F_1_12', 'F_1_13'] + ['F_3_19', 'F_3_21']\n",
    "# pred_cols = [*[f'F_1_{n}' for n in range(15) if n not in (7, 12, 13)],\n",
    "#              *[f'F_3_{n}' for n in range(25) if n not in (19, 21)]]\n",
    "\n",
    "# predicted = aux.ImputeHelper(\n",
    "#     aux.Step(aux.predictor, aux.subcol[4] + add_cols, estimator=LGBMRegressor(random_state=7, n_jobs=-1, n_estimators=1500, num_leaves=29)),\n",
    "#     aux.Step(aux.onestep_neural, 'all', pipeline, fill_columns=pred_cols, sequential__epochs=3),\n",
    "# ).run(aux.data)"
   ]
  },
  {
   "cell_type": "code",
   "execution_count": null,
   "metadata": {},
   "outputs": [
    {
     "name": "stdout",
     "output_type": "stream",
     "text": [
      "Data contain NaN: False\n",
      "Data contain inf: False\n"
     ]
    },
    {
     "data": {
      "text/html": [
       "<div>\n",
       "<style scoped>\n",
       "    .dataframe tbody tr th:only-of-type {\n",
       "        vertical-align: middle;\n",
       "    }\n",
       "\n",
       "    .dataframe tbody tr th {\n",
       "        vertical-align: top;\n",
       "    }\n",
       "\n",
       "    .dataframe thead th {\n",
       "        text-align: right;\n",
       "    }\n",
       "</style>\n",
       "<table border=\"1\" class=\"dataframe\">\n",
       "  <thead>\n",
       "    <tr style=\"text-align: right;\">\n",
       "      <th></th>\n",
       "      <th>row-col</th>\n",
       "      <th>value</th>\n",
       "    </tr>\n",
       "  </thead>\n",
       "  <tbody>\n",
       "    <tr>\n",
       "      <th>0</th>\n",
       "      <td>0-F_1_14</td>\n",
       "      <td>-0.000473</td>\n",
       "    </tr>\n",
       "    <tr>\n",
       "      <th>1</th>\n",
       "      <td>0-F_3_23</td>\n",
       "      <td>-0.000291</td>\n",
       "    </tr>\n",
       "    <tr>\n",
       "      <th>2</th>\n",
       "      <td>1-F_3_24</td>\n",
       "      <td>0.006922</td>\n",
       "    </tr>\n",
       "    <tr>\n",
       "      <th>3</th>\n",
       "      <td>2-F_1_2</td>\n",
       "      <td>-0.006544</td>\n",
       "    </tr>\n",
       "    <tr>\n",
       "      <th>4</th>\n",
       "      <td>2-F_4_2</td>\n",
       "      <td>0.205987</td>\n",
       "    </tr>\n",
       "  </tbody>\n",
       "</table>\n",
       "</div>"
      ],
      "text/plain": [
       "    row-col     value\n",
       "0  0-F_1_14 -0.000473\n",
       "1  0-F_3_23 -0.000291\n",
       "2  1-F_3_24  0.006922\n",
       "3   2-F_1_2 -0.006544\n",
       "4   2-F_4_2  0.205987"
      ]
     },
     "execution_count": 7,
     "metadata": {},
     "output_type": "execute_result"
    }
   ],
   "source": [
    "aux.save_submission(predicted)"
   ]
  },
  {
   "cell_type": "code",
   "execution_count": null,
   "metadata": {},
   "outputs": [],
   "source": [
    "#"
   ]
  }
 ],
 "metadata": {
  "kernelspec": {
   "display_name": "Python 3.9.12 ('jupyter_default')",
   "language": "python",
   "name": "python3"
  },
  "language_info": {
   "codemirror_mode": {
    "name": "ipython",
    "version": 3
   },
   "file_extension": ".py",
   "mimetype": "text/x-python",
   "name": "python",
   "nbconvert_exporter": "python",
   "pygments_lexer": "ipython3",
   "version": "3.9.12"
  },
  "orig_nbformat": 4,
  "vscode": {
   "interpreter": {
    "hash": "23a8a6843721b26098060b435da282c6499d0f0384483463012990926fcfc80c"
   }
  }
 },
 "nbformat": 4,
 "nbformat_minor": 2
}
