{
 "cells": [
  {
   "cell_type": "code",
   "execution_count": 1,
   "metadata": {},
   "outputs": [],
   "source": [
    "import auxiliary as aux\n",
    "\n",
    "from sklearn.pipeline import make_pipeline\n",
    "from sklearn.impute import SimpleImputer\n",
    "from lightgbm import LGBMRegressor\n",
    "from sklearn.linear_model import SGDRegressor\n",
    "\n",
    "import tensorflow as tf\n",
    "from keras.models import Sequential\n",
    "from keras.layers import Dense, Input"
   ]
  },
  {
   "cell_type": "code",
   "execution_count": 3,
   "metadata": {},
   "outputs": [],
   "source": [
    "# %%time\n",
    "# # Kaggle 0.88964\n",
    "# predicted = aux.ImputeHelper(\n",
    "#     aux.Step(aux.predictor, aux.subcol[4], estimator=LGBMRegressor(random_state=7, n_jobs=-1, n_estimators=5000, num_leaves=29)),\n",
    "#     aux.Step(aux.transformer, aux.subcol[1] + aux.subcol[3], imputer=SimpleImputer(strategy='mean')),\n",
    "# ).run(aux.data)"
   ]
  },
  {
   "cell_type": "code",
   "execution_count": 2,
   "metadata": {},
   "outputs": [
    {
     "name": "stderr",
     "output_type": "stream",
     "text": [
      "Initiate values: 100%|██████████| 15/15 [1:43:59<00:00, 415.95s/it, avg. score=0.391]\n",
      "Epoch 1 / 3: 100%|██████████| 15/15 [1:13:36<00:00, 294.41s/it, avg. score=0.288]\n",
      "Epoch 2 / 3: 100%|██████████| 15/15 [1:11:49<00:00, 287.29s/it, avg. score=0.285]\n",
      "Epoch 3 / 3: 100%|██████████| 15/15 [1:12:32<00:00, 290.16s/it, avg. score=0.285]\n"
     ]
    },
    {
     "name": "stdout",
     "output_type": "stream",
     "text": [
      "CPU times: user 1d 13h 43min 24s, sys: 22min 34s, total: 1d 14h 5min 58s\n",
      "Wall time: 5h 22min 10s\n"
     ]
    }
   ],
   "source": [
    "%%time\n",
    "# Kaggle 0.87882\n",
    "predicted = aux.ImputeHelper(\n",
    "    aux.Step(aux.mice, aux.subcol[4], epochs=3,  seed=17,\n",
    "             initiator=LGBMRegressor(random_state=7, n_jobs=-1, n_estimators=7500, num_leaves=29),\n",
    "             estimator=LGBMRegressor(n_jobs=-1, n_estimators=5000, num_leaves=37)),\n",
    "    aux.Step(aux.transformer, aux.subcol[1] + aux.subcol[3], initiator=SimpleImputer()),\n",
    ").run(aux.data)"
   ]
  },
  {
   "cell_type": "code",
   "execution_count": 3,
   "metadata": {},
   "outputs": [
    {
     "name": "stdout",
     "output_type": "stream",
     "text": [
      "Data contain NaN: False\n",
      "Data contain inf: False\n"
     ]
    },
    {
     "data": {
      "text/html": [
       "<div>\n",
       "<style scoped>\n",
       "    .dataframe tbody tr th:only-of-type {\n",
       "        vertical-align: middle;\n",
       "    }\n",
       "\n",
       "    .dataframe tbody tr th {\n",
       "        vertical-align: top;\n",
       "    }\n",
       "\n",
       "    .dataframe thead th {\n",
       "        text-align: right;\n",
       "    }\n",
       "</style>\n",
       "<table border=\"1\" class=\"dataframe\">\n",
       "  <thead>\n",
       "    <tr style=\"text-align: right;\">\n",
       "      <th></th>\n",
       "      <th>row-col</th>\n",
       "      <th>value</th>\n",
       "    </tr>\n",
       "  </thead>\n",
       "  <tbody>\n",
       "    <tr>\n",
       "      <th>0</th>\n",
       "      <td>0-F_1_14</td>\n",
       "      <td>-0.000905</td>\n",
       "    </tr>\n",
       "    <tr>\n",
       "      <th>1</th>\n",
       "      <td>0-F_3_23</td>\n",
       "      <td>0.000365</td>\n",
       "    </tr>\n",
       "    <tr>\n",
       "      <th>2</th>\n",
       "      <td>1-F_3_24</td>\n",
       "      <td>-0.000817</td>\n",
       "    </tr>\n",
       "    <tr>\n",
       "      <th>3</th>\n",
       "      <td>2-F_1_2</td>\n",
       "      <td>0.000551</td>\n",
       "    </tr>\n",
       "    <tr>\n",
       "      <th>4</th>\n",
       "      <td>2-F_4_2</td>\n",
       "      <td>0.366901</td>\n",
       "    </tr>\n",
       "  </tbody>\n",
       "</table>\n",
       "</div>"
      ],
      "text/plain": [
       "    row-col     value\n",
       "0  0-F_1_14 -0.000905\n",
       "1  0-F_3_23  0.000365\n",
       "2  1-F_3_24 -0.000817\n",
       "3   2-F_1_2  0.000551\n",
       "4   2-F_4_2  0.366901"
      ]
     },
     "execution_count": 3,
     "metadata": {},
     "output_type": "execute_result"
    }
   ],
   "source": [
    "aux.save_submission(predicted)"
   ]
  },
  {
   "cell_type": "code",
   "execution_count": null,
   "metadata": {},
   "outputs": [],
   "source": [
    "#"
   ]
  }
 ],
 "metadata": {
  "kernelspec": {
   "display_name": "Python 3.9.12 ('jupyter_default')",
   "language": "python",
   "name": "python3"
  },
  "language_info": {
   "codemirror_mode": {
    "name": "ipython",
    "version": 3
   },
   "file_extension": ".py",
   "mimetype": "text/x-python",
   "name": "python",
   "nbconvert_exporter": "python",
   "pygments_lexer": "ipython3",
   "version": "3.9.12"
  },
  "orig_nbformat": 4,
  "vscode": {
   "interpreter": {
    "hash": "23a8a6843721b26098060b435da282c6499d0f0384483463012990926fcfc80c"
   }
  }
 },
 "nbformat": 4,
 "nbformat_minor": 2
}
