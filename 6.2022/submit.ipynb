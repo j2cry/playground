{
 "cells": [
  {
   "cell_type": "code",
   "execution_count": 1,
   "metadata": {},
   "outputs": [],
   "source": [
    "import auxiliary as aux\n",
    "\n",
    "from sklearn.impute import SimpleImputer\n",
    "from lightgbm import LGBMRegressor\n",
    "from sklearn.linear_model import SGDRegressor"
   ]
  },
  {
   "cell_type": "code",
   "execution_count": null,
   "metadata": {},
   "outputs": [],
   "source": [
    "# Kaggle 0.91069\n",
    "predicted = aux.ImputeHelper(\n",
    "    aux.Step(aux.predictor, aux.subcol[4], estimator=LGBMRegressor(random_state=7, n_jobs=-1, n_estimators=1500, num_leaves=29)),\n",
    "    aux.Step(aux.simplestat, aux.subcol[1] + aux.subcol[3], imputer=SimpleImputer(strategy='mean')),\n",
    ").run(aux.data)"
   ]
  },
  {
   "cell_type": "code",
   "execution_count": 2,
   "metadata": {},
   "outputs": [
    {
     "name": "stderr",
     "output_type": "stream",
     "text": [
      "100%|██████████| 15/15 [21:01<00:00, 84.11s/it]\n"
     ]
    },
    {
     "name": "stdout",
     "output_type": "stream",
     "text": [
      "\n",
      "ML Imputer avg. score: 0.5946655547740403\n"
     ]
    },
    {
     "name": "stderr",
     "output_type": "stream",
     "text": [
      "Epoch 1 / 20: 100%|██████████| 40/40 [02:57<00:00,  4.43s/it]\n",
      "Epoch 2 / 20: 100%|██████████| 40/40 [02:45<00:00,  4.14s/it]\n",
      "Epoch 3 / 20: 100%|██████████| 40/40 [02:45<00:00,  4.15s/it]\n",
      "Epoch 4 / 20: 100%|██████████| 40/40 [02:46<00:00,  4.16s/it]\n",
      "Epoch 5 / 20: 100%|██████████| 40/40 [02:45<00:00,  4.13s/it]\n",
      "Epoch 6 / 20: 100%|██████████| 40/40 [02:42<00:00,  4.06s/it]\n",
      "Epoch 7 / 20: 100%|██████████| 40/40 [02:44<00:00,  4.11s/it]\n",
      "Epoch 8 / 20: 100%|██████████| 40/40 [02:51<00:00,  4.28s/it]\n",
      "Epoch 9 / 20: 100%|██████████| 40/40 [02:43<00:00,  4.08s/it]\n",
      "Epoch 10 / 20: 100%|██████████| 40/40 [02:39<00:00,  3.99s/it]\n",
      "Epoch 11 / 20: 100%|██████████| 40/40 [02:39<00:00,  3.98s/it]\n",
      "Epoch 12 / 20: 100%|██████████| 40/40 [02:39<00:00,  3.99s/it]\n",
      "Epoch 13 / 20: 100%|██████████| 40/40 [02:44<00:00,  4.11s/it]\n",
      "Epoch 14 / 20: 100%|██████████| 40/40 [02:45<00:00,  4.14s/it]\n",
      "Epoch 15 / 20: 100%|██████████| 40/40 [02:40<00:00,  4.01s/it]\n",
      "Epoch 16 / 20: 100%|██████████| 40/40 [02:43<00:00,  4.09s/it]\n",
      "Epoch 17 / 20: 100%|██████████| 40/40 [02:51<00:00,  4.29s/it]\n",
      "Epoch 18 / 20: 100%|██████████| 40/40 [02:46<00:00,  4.17s/it]\n",
      "Epoch 19 / 20: 100%|██████████| 40/40 [02:45<00:00,  4.15s/it]\n",
      "Epoch 20 / 20: 100%|██████████| 40/40 [02:43<00:00,  4.09s/it]\n"
     ]
    }
   ],
   "source": [
    "# Kaggle 0.92113\n",
    "# predicted = aux.ImputeHelper(\n",
    "#     aux.Step(aux.predictor, aux.subcol[4], estimator=LGBMRegressor(random_state=7, n_jobs=-1, n_estimators=1500, num_leaves=29)),\n",
    "#     aux.Step(aux.mice, aux.subcol[1] + aux.subcol[3], estimator=SGDRegressor(random_state=7, max_iter=1000), epochs=20, autosplit=False),\n",
    "# ).run(aux.data)"
   ]
  },
  {
   "cell_type": "code",
   "execution_count": 3,
   "metadata": {},
   "outputs": [
    {
     "name": "stdout",
     "output_type": "stream",
     "text": [
      "Still contain NaN: False\n"
     ]
    },
    {
     "data": {
      "text/html": [
       "<div>\n",
       "<style scoped>\n",
       "    .dataframe tbody tr th:only-of-type {\n",
       "        vertical-align: middle;\n",
       "    }\n",
       "\n",
       "    .dataframe tbody tr th {\n",
       "        vertical-align: top;\n",
       "    }\n",
       "\n",
       "    .dataframe thead th {\n",
       "        text-align: right;\n",
       "    }\n",
       "</style>\n",
       "<table border=\"1\" class=\"dataframe\">\n",
       "  <thead>\n",
       "    <tr style=\"text-align: right;\">\n",
       "      <th></th>\n",
       "      <th>row-col</th>\n",
       "      <th>value</th>\n",
       "    </tr>\n",
       "  </thead>\n",
       "  <tbody>\n",
       "    <tr>\n",
       "      <th>0</th>\n",
       "      <td>0-F_1_14</td>\n",
       "      <td>-0.127023</td>\n",
       "    </tr>\n",
       "    <tr>\n",
       "      <th>1</th>\n",
       "      <td>0-F_3_23</td>\n",
       "      <td>0.182696</td>\n",
       "    </tr>\n",
       "    <tr>\n",
       "      <th>2</th>\n",
       "      <td>1-F_3_24</td>\n",
       "      <td>0.177949</td>\n",
       "    </tr>\n",
       "    <tr>\n",
       "      <th>3</th>\n",
       "      <td>2-F_1_2</td>\n",
       "      <td>0.174252</td>\n",
       "    </tr>\n",
       "    <tr>\n",
       "      <th>4</th>\n",
       "      <td>2-F_4_2</td>\n",
       "      <td>0.232231</td>\n",
       "    </tr>\n",
       "  </tbody>\n",
       "</table>\n",
       "</div>"
      ],
      "text/plain": [
       "    row-col     value\n",
       "0  0-F_1_14 -0.127023\n",
       "1  0-F_3_23  0.182696\n",
       "2  1-F_3_24  0.177949\n",
       "3   2-F_1_2  0.174252\n",
       "4   2-F_4_2  0.232231"
      ]
     },
     "execution_count": 3,
     "metadata": {},
     "output_type": "execute_result"
    }
   ],
   "source": [
    "aux.save_submission(predicted)"
   ]
  },
  {
   "cell_type": "code",
   "execution_count": null,
   "metadata": {},
   "outputs": [],
   "source": [
    "#"
   ]
  }
 ],
 "metadata": {
  "kernelspec": {
   "display_name": "Python 3.9.12 ('jupyter_default')",
   "language": "python",
   "name": "python3"
  },
  "language_info": {
   "codemirror_mode": {
    "name": "ipython",
    "version": 3
   },
   "file_extension": ".py",
   "mimetype": "text/x-python",
   "name": "python",
   "nbconvert_exporter": "python",
   "pygments_lexer": "ipython3",
   "version": "3.9.12"
  },
  "orig_nbformat": 4,
  "vscode": {
   "interpreter": {
    "hash": "23a8a6843721b26098060b435da282c6499d0f0384483463012990926fcfc80c"
   }
  }
 },
 "nbformat": 4,
 "nbformat_minor": 2
}
