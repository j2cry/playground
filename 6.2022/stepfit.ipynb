{
 "cells": [
  {
   "cell_type": "code",
   "execution_count": 1,
   "metadata": {},
   "outputs": [],
   "source": [
    "import auxiliary as aux\n",
    "import numpy as np\n",
    "import pandas as pd\n",
    "\n",
    "# from sklearn.utils import parallel_backend\n",
    "# from joblib import Parallel, delayed\n",
    "\n",
    "from lightgbm import LGBMRegressor\n",
    "from sklearn.metrics import mean_squared_error\n",
    "\n",
    "from tqdm import tqdm"
   ]
  },
  {
   "cell_type": "markdown",
   "metadata": {},
   "source": [
    "## step 1: impute subset #4"
   ]
  },
  {
   "cell_type": "code",
   "execution_count": 3,
   "metadata": {},
   "outputs": [
    {
     "name": "stderr",
     "output_type": "stream",
     "text": [
      "100%|██████████| 15/15 [05:33<00:00, 22.25s/it]"
     ]
    },
    {
     "name": "stdout",
     "output_type": "stream",
     "text": [
      "\n",
      "0.297277885099793\n"
     ]
    },
    {
     "name": "stderr",
     "output_type": "stream",
     "text": [
      "\n"
     ]
    }
   ],
   "source": [
    "estimator = LGBMRegressor(\n",
    "    random_state=7, n_jobs=-1,\n",
    "    n_estimators=250,\n",
    "    # max_depth=-1,\n",
    "    num_leaves=29\n",
    ")\n",
    "s4 = aux.ml_impute(aux.subset[4], estimator)"
   ]
  },
  {
   "cell_type": "markdown",
   "metadata": {},
   "source": [
    "## step 2: "
   ]
  },
  {
   "cell_type": "code",
   "execution_count": null,
   "metadata": {},
   "outputs": [],
   "source": []
  },
  {
   "cell_type": "markdown",
   "metadata": {},
   "source": [
    "## test"
   ]
  },
  {
   "cell_type": "code",
   "execution_count": 14,
   "metadata": {},
   "outputs": [
    {
     "name": "stderr",
     "output_type": "stream",
     "text": [
      "100%|██████████| 40/40 [08:25<00:00, 12.64s/it]\n"
     ]
    },
    {
     "name": "stdout",
     "output_type": "stream",
     "text": [
      "\n",
      "0.9625808519672457\n",
      "Remain NaN: 372076 / 1000000\n"
     ]
    }
   ],
   "source": [
    "df = aux.data.copy()\n",
    "df.fillna(s4, inplace=True)\n",
    "\n",
    "nan_cols = df.columns[df.isna().any()]\n",
    "one_nan_row = df.isna().sum(axis=1) == 1      # select rows with only 1 NaN\n",
    "no_nan_row = ~df.isna().any(axis=1)           # select rows without NaN\n",
    "\n",
    "imp = df.copy()\n",
    "metrics = []\n",
    "for col in tqdm(nan_cols):\n",
    "    # exclude rows with NaN in train columns\n",
    "    nan_in_train = df[one_nan_row].drop(col, axis=1).isna().any(axis=1)        \n",
    "    X_test = df[one_nan_row][~nan_in_train].drop(col, axis=1)\n",
    "    # # collect fit data\n",
    "    # X_train = df[no_nan_row].drop(col, axis=1)\n",
    "    # y_train = df.loc[no_nan_row, col]\n",
    "\n",
    "    # using all data\n",
    "    train_mask = (df.isna().sum(axis=1) < 2) & (~df[col].isna())\n",
    "    X_train = df[train_mask].drop(col, axis=1)\n",
    "    y_train = df.loc[train_mask, col]\n",
    "    X_train.fillna(X_train.mean(), inplace=True)\n",
    "    \n",
    "    # fit LGBM\n",
    "    estimator = LGBMRegressor(\n",
    "        random_state=7, n_jobs=-1,\n",
    "        n_estimators=100,\n",
    "        # max_depth=-1,\n",
    "        num_leaves=23\n",
    "    )\n",
    "    estimator.fit(X_train, y_train)\n",
    "    # predict\n",
    "    train_pred = estimator.predict(X_train)\n",
    "    pred = estimator.predict(X_test)\n",
    "    imp.loc[X_test.index, col] = pred\n",
    "    # score\n",
    "    metrics.append(np.sqrt(mean_squared_error(y_train, train_pred)))    # RMSE\n",
    "print(f'\\n{np.mean(metrics)}')\n",
    "print(f'Remain NaN: {imp.isna().sum().sum()} / {aux.data.isna().sum().sum()}')"
   ]
  },
  {
   "cell_type": "code",
   "execution_count": null,
   "metadata": {},
   "outputs": [],
   "source": [
    "def groupstat(df, *, gcol, func='mean'):\n",
    "    stats = df.groupby(gcol).transform(func)\n",
    "    if stats.isna().any().any():\n",
    "        stats.fillna(stats.agg(func), inplace=True)\n",
    "        print(f'Stats contain NaNs! Filled with {func}')\n",
    "    imp = df.fillna(stats)\n",
    "    # if imp.isna().any().any():\n",
    "    #     imp.fillna(imp.agg(func), inplace=True)\n",
    "    #     print('Data still contain NaNs! Select another group columns')\n",
    "\n",
    "    # compute score\n",
    "    metrics = []\n",
    "    nan_cols = df.columns[df.isna().any()]\n",
    "    for col in tqdm(nan_cols):\n",
    "        nan_rows = df[col].isna()   # select rows that are NaN in this columns\n",
    "        y_train = df.loc[~nan_rows, col]\n",
    "        train_pred = stats.loc[~nan_rows, col]\n",
    "        score = np.sqrt(mean_squared_error(y_train, train_pred))    # RMSE\n",
    "\n",
    "    metrics.append(score)\n",
    "    print(f'\\n{np.mean(metrics)}')\n",
    "    return imp"
   ]
  },
  {
   "cell_type": "code",
   "execution_count": null,
   "metadata": {},
   "outputs": [],
   "source": []
  },
  {
   "cell_type": "code",
   "execution_count": 15,
   "metadata": {},
   "outputs": [],
   "source": [
    "predicted = imp.fillna(imp.mean())      # try cosine/ALS instead?\n",
    "# predicted = groupstat(imp, gcol=['F_2_2'], func='mean')"
   ]
  },
  {
   "cell_type": "code",
   "execution_count": 16,
   "metadata": {},
   "outputs": [
    {
     "name": "stdout",
     "output_type": "stream",
     "text": [
      "Still contain NaN: False\n"
     ]
    },
    {
     "data": {
      "text/html": [
       "<div>\n",
       "<style scoped>\n",
       "    .dataframe tbody tr th:only-of-type {\n",
       "        vertical-align: middle;\n",
       "    }\n",
       "\n",
       "    .dataframe tbody tr th {\n",
       "        vertical-align: top;\n",
       "    }\n",
       "\n",
       "    .dataframe thead th {\n",
       "        text-align: right;\n",
       "    }\n",
       "</style>\n",
       "<table border=\"1\" class=\"dataframe\">\n",
       "  <thead>\n",
       "    <tr style=\"text-align: right;\">\n",
       "      <th></th>\n",
       "      <th>row-col</th>\n",
       "      <th>value</th>\n",
       "    </tr>\n",
       "  </thead>\n",
       "  <tbody>\n",
       "    <tr>\n",
       "      <th>0</th>\n",
       "      <td>0-F_1_14</td>\n",
       "      <td>-0.000907</td>\n",
       "    </tr>\n",
       "    <tr>\n",
       "      <th>1</th>\n",
       "      <td>0-F_3_23</td>\n",
       "      <td>0.000368</td>\n",
       "    </tr>\n",
       "    <tr>\n",
       "      <th>2</th>\n",
       "      <td>1-F_3_24</td>\n",
       "      <td>0.004464</td>\n",
       "    </tr>\n",
       "    <tr>\n",
       "      <th>3</th>\n",
       "      <td>2-F_1_2</td>\n",
       "      <td>0.000215</td>\n",
       "    </tr>\n",
       "    <tr>\n",
       "      <th>4</th>\n",
       "      <td>2-F_4_2</td>\n",
       "      <td>0.257058</td>\n",
       "    </tr>\n",
       "  </tbody>\n",
       "</table>\n",
       "</div>"
      ],
      "text/plain": [
       "    row-col     value\n",
       "0  0-F_1_14 -0.000907\n",
       "1  0-F_3_23  0.000368\n",
       "2  1-F_3_24  0.004464\n",
       "3   2-F_1_2  0.000215\n",
       "4   2-F_4_2  0.257058"
      ]
     },
     "execution_count": 16,
     "metadata": {},
     "output_type": "execute_result"
    }
   ],
   "source": [
    "aux.save_submission(predicted)"
   ]
  },
  {
   "cell_type": "code",
   "execution_count": null,
   "metadata": {},
   "outputs": [],
   "source": [
    "#"
   ]
  }
 ],
 "metadata": {
  "kernelspec": {
   "display_name": "Python 3.9.12 ('jupyter_default')",
   "language": "python",
   "name": "python3"
  },
  "language_info": {
   "codemirror_mode": {
    "name": "ipython",
    "version": 3
   },
   "file_extension": ".py",
   "mimetype": "text/x-python",
   "name": "python",
   "nbconvert_exporter": "python",
   "pygments_lexer": "ipython3",
   "version": "3.9.12"
  },
  "orig_nbformat": 4,
  "vscode": {
   "interpreter": {
    "hash": "23a8a6843721b26098060b435da282c6499d0f0384483463012990926fcfc80c"
   }
  }
 },
 "nbformat": 4,
 "nbformat_minor": 2
}
