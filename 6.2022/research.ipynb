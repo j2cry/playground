{
 "cells": [
  {
   "cell_type": "code",
   "execution_count": 1,
   "metadata": {},
   "outputs": [],
   "source": [
    "import auxiliary as aux\n",
    "\n",
    "import numpy as np\n",
    "import pandas as pd\n",
    "import matplotlib.pyplot as plt\n",
    "\n",
    "from sklearn.pipeline import make_pipeline\n",
    "from sklearn.impute import SimpleImputer\n",
    "from sklearn.linear_model import SGDRegressor\n",
    "from sklearn.tree import DecisionTreeRegressor\n",
    "from sklearn.ensemble import RandomForestRegressor\n",
    "from lightgbm import LGBMRegressor\n",
    "\n",
    "import tensorflow as tf\n",
    "from keras.models import Sequential\n",
    "from keras.layers import Dense, Input, BatchNormalization\n",
    "\n",
    "\n",
    "valid_true, valid = aux.train_valid_split(aux.data, frac=0.0125, seed=19)"
   ]
  },
  {
   "cell_type": "markdown",
   "metadata": {},
   "source": [
    "## tests"
   ]
  },
  {
   "cell_type": "code",
   "execution_count": 7,
   "metadata": {},
   "outputs": [
    {
     "name": "stderr",
     "output_type": "stream",
     "text": [
      "100%|██████████| 15/15 [13:22<00:00, 53.49s/it, avg. score=0.555]\n",
      "Final validation: 100%|██████████| 55/55 [00:00<00:00, 476.17it/s]\n"
     ]
    },
    {
     "name": "stdout",
     "output_type": "stream",
     "text": [
      "Final validation score: 0.8783267769946155\n",
      "Overall final score: 0.10180127772818637\n",
      "CPU times: user 1h 25min, sys: 2min 2s, total: 1h 27min 3s\n",
      "Wall time: 13min 24s\n"
     ]
    }
   ],
   "source": [
    "%%time\n",
    "predicted = aux.ImputeHelper(\n",
    "    aux.Step(aux.predictor, aux.subcol[4], estimator=LGBMRegressor(random_state=7, n_jobs=-1, n_estimators=1500, num_leaves=29)),\n",
    "    aux.Step(aux.transformer, 'all', imputer=SimpleImputer()),\n",
    ").run(valid, validate_on=valid_true)"
   ]
  },
  {
   "cell_type": "code",
   "execution_count": 9,
   "metadata": {},
   "outputs": [
    {
     "name": "stderr",
     "output_type": "stream",
     "text": [
      "100%|██████████| 15/15 [12:57<00:00, 51.86s/it, avg. score=0.555]\n"
     ]
    },
    {
     "name": "stdout",
     "output_type": "stream",
     "text": [
      "Using `cosine_stats()` is deprecated! It may take a VERY long time on large data, work unstable or don't work at all.\n",
      "87877 rows in 1758 chunks\n"
     ]
    },
    {
     "name": "stderr",
     "output_type": "stream",
     "text": [
      "100%|██████████| 1758/1758 [07:41<00:00,  3.81it/s]\n"
     ]
    },
    {
     "name": "stdout",
     "output_type": "stream",
     "text": [
      "Some values are NaN. Try decrease threshold.\n"
     ]
    },
    {
     "name": "stderr",
     "output_type": "stream",
     "text": [
      "Final validation: 100%|██████████| 55/55 [00:00<00:00, 461.12it/s]\n"
     ]
    },
    {
     "name": "stdout",
     "output_type": "stream",
     "text": [
      "Final validation score: 0.8806708728036292\n",
      "Overall final score: 0.10207657602880504\n",
      "CPU times: user 1h 40min 55s, sys: 10min 55s, total: 1h 51min 51s\n",
      "Wall time: 20min 48s\n"
     ]
    }
   ],
   "source": [
    "# %%time\n",
    "# predicted = aux.ImputeHelper(\n",
    "#     aux.Step(aux.predictor, aux.subcol[4], estimator=LGBMRegressor(random_state=7, n_jobs=-1, n_estimators=1500, num_leaves=29)),\n",
    "#     aux.Step(aux.cosine_stats, aux.subcol[1], threshold=0.7, subsample=0.05, backend='threading', seed=17),\n",
    "#     aux.Step(aux.transformer, 'all', imputer=SimpleImputer()),\n",
    "# ).run(valid, validate_on=valid_true)"
   ]
  },
  {
   "cell_type": "code",
   "execution_count": 11,
   "metadata": {},
   "outputs": [
    {
     "name": "stderr",
     "output_type": "stream",
     "text": [
      "100%|██████████| 20/20 [13:08<00:00, 39.43s/it, avg. score=0.581]\n",
      "Final validation: 100%|██████████| 20/20 [00:00<00:00, 470.17it/s]\n"
     ]
    },
    {
     "name": "stdout",
     "output_type": "stream",
     "text": [
      "Final validation score: 0.6688705070162656\n",
      "Overall final score: 0.06564987610368235\n"
     ]
    }
   ],
   "source": [
    "add_cols = ['F_1_7', 'F_1_12', 'F_1_13'] + ['F_3_19', 'F_3_21']\n",
    "prepared = aux.ImputeHelper(\n",
    "    aux.Step(aux.predictor, aux.subcol[4] + add_cols, estimator=LGBMRegressor(random_state=7, n_jobs=-1, n_estimators=1500, num_leaves=29)),\n",
    ").run(valid, validate_on=valid_true)"
   ]
  },
  {
   "cell_type": "code",
   "execution_count": 21,
   "metadata": {},
   "outputs": [
    {
     "name": "stdout",
     "output_type": "stream",
     "text": [
      "Epoch 1/3\n",
      "5987/5987 [==============================] - 16s 3ms/step - loss: 1.0001 - mse: 1.0001\n",
      "Epoch 2/3\n",
      "5987/5987 [==============================] - 17s 3ms/step - loss: 1.0001 - mse: 1.0001\n",
      "Epoch 3/3\n",
      "5987/5987 [==============================] - 17s 3ms/step - loss: 1.0000 - mse: 1.0000\n",
      "5987/5987 [==============================] - 9s 2ms/step\n",
      "5413/5413 [==============================] - 8s 2ms/step\n"
     ]
    },
    {
     "name": "stderr",
     "output_type": "stream",
     "text": [
      "Final validation: 100%|██████████| 35/35 [00:00<00:00, 380.44it/s]\n"
     ]
    },
    {
     "name": "stdout",
     "output_type": "stream",
     "text": [
      "Final validation score: 0.9988624634525739\n",
      "Overall final score: 0.1018428030899562\n"
     ]
    }
   ],
   "source": [
    "# NN approach\n",
    "tf.random.set_seed(11)\n",
    "\n",
    "model = Sequential([\n",
    "    Input(shape=(45, )),\n",
    "    # Dense(512, activation='selu'),\n",
    "    Dense(512, activation='selu'),\n",
    "    Dense(512, activation='selu'),\n",
    "    Dense(35, activation='sigmoid'),\n",
    "])\n",
    "\n",
    "# SGD / RMSprop / Adam / Adadelta / Adagrad / Adamax / Nadam / Ftrl\n",
    "model.compile(optimizer='adam', loss='mse', metrics='mse')\n",
    "pipeline = make_pipeline(\n",
    "    SimpleImputer(),\n",
    "    model\n",
    ")\n",
    "\n",
    "add_cols = ['F_1_7', 'F_1_12', 'F_1_13'] + ['F_3_19', 'F_3_21']\n",
    "pred_cols = [*[f'F_1_{n}' for n in range(15) if n not in (7, 12, 13)],\n",
    "             *[f'F_3_{n}' for n in range(25) if n not in (19, 21)]]\n",
    "\n",
    "predicted = aux.ImputeHelper(\n",
    "    # aux.Step(aux.predictor, aux.subcol[4] + add_cols, estimator=LGBMRegressor(random_state=7, n_jobs=-1, n_estimators=1500, num_leaves=29)),\n",
    "    aux.Step(aux.onestep_neural, 'all', pipeline, fill_columns=pred_cols, sequential__epochs=3),\n",
    ").run(prepared, validate_on=valid_true)\n",
    "# it's an improve if is better than\n",
    "# Final validation score: 0.8783267769946155\n",
    "# Overall final score: 0.10180127772818637"
   ]
  },
  {
   "cell_type": "code",
   "execution_count": 17,
   "metadata": {},
   "outputs": [
    {
     "name": "stderr",
     "output_type": "stream",
     "text": [
      "100%|██████████| 20/20 [12:37<00:00, 37.89s/it, avg. score=0.797]\n"
     ]
    },
    {
     "name": "stdout",
     "output_type": "stream",
     "text": [
      "Epoch 1/3\n",
      "329/329 [==============================] - 2s 3ms/step - loss: 1.0082 - mse: 1.0082\n",
      "Epoch 2/3\n",
      "329/329 [==============================] - 1s 3ms/step - loss: 1.0045 - mse: 1.0045\n",
      "Epoch 3/3\n",
      "329/329 [==============================] - 1s 3ms/step - loss: 1.0045 - mse: 1.0045\n",
      "329/329 [==============================] - 1s 1ms/step\n",
      "   97/11071 [..............................] - ETA: 17s"
     ]
    },
    {
     "name": "stderr",
     "output_type": "stream",
     "text": [
      "2022-06-25 00:25:21.865953: W tensorflow/core/framework/cpu_allocator_impl.cc:82] Allocation of 549817728 exceeds 10% of free system memory.\n"
     ]
    },
    {
     "name": "stdout",
     "output_type": "stream",
     "text": [
      "11071/11071 [==============================] - 17s 2ms/step\n"
     ]
    },
    {
     "name": "stderr",
     "output_type": "stream",
     "text": [
      "Final validation: 100%|██████████| 55/55 [00:00<00:00, 242.98it/s]\n"
     ]
    },
    {
     "name": "stdout",
     "output_type": "stream",
     "text": [
      "Final validation score: 0.9662174870419447\n",
      "Overall final score: 0.11153378677407988\n"
     ]
    }
   ],
   "source": [
    "# sub#2 to dummies\n",
    "df = pd.concat([aux.subset[1], pd.get_dummies(aux.subset[2].astype('category')), aux.subset[3], aux.subset[4]], axis=1)\n",
    "df_valid_true, df_valid = aux.train_valid_split(df, frac=0.0125, seed=19)\n",
    "\n",
    "tf.random.set_seed(11)\n",
    "model = Sequential([\n",
    "    Input(shape=(388, )),\n",
    "    # Dense(512, activation='selu'),\n",
    "    Dense(512, activation='tanh'),\n",
    "    Dense(512, activation='tanh'),\n",
    "    Dense(35, activation='sigmoid'),\n",
    "])\n",
    "\n",
    "# SGD / RMSprop / Adam / Adadelta / Adagrad / Adamax / Nadam / Ftrl\n",
    "model.compile(optimizer='adam', loss='mse', metrics='mse')\n",
    "pipeline = make_pipeline(\n",
    "    SimpleImputer(),\n",
    "    model\n",
    ")\n",
    "\n",
    "add_cols = ['F_1_7', 'F_1_12', 'F_1_13'] + ['F_3_19', 'F_3_21']\n",
    "pred_cols = [*[f'F_1_{n}' for n in range(15) if n not in (7, 12, 13)],\n",
    "             *[f'F_3_{n}' for n in range(25) if n not in (19, 21)]]\n",
    "\n",
    "predicted = aux.ImputeHelper(\n",
    "    aux.Step(aux.predictor, aux.subcol[4] + add_cols, estimator=LGBMRegressor(random_state=7, n_jobs=-1, n_estimators=1500, num_leaves=29)),\n",
    "    aux.Step(aux.onestep_neural, 'all', pipeline, fill_columns=pred_cols, sequential__epochs=3),\n",
    ").run(df_valid, validate_on=df_valid_true)"
   ]
  },
  {
   "cell_type": "markdown",
   "metadata": {},
   "source": [
    "## temp"
   ]
  },
  {
   "cell_type": "code",
   "execution_count": 12,
   "metadata": {},
   "outputs": [
    {
     "data": {
      "text/plain": [
       "False"
      ]
     },
     "execution_count": 12,
     "metadata": {},
     "output_type": "execute_result"
    }
   ],
   "source": [
    "predicted.isna().any().any()"
   ]
  },
  {
   "cell_type": "code",
   "execution_count": null,
   "metadata": {},
   "outputs": [],
   "source": [
    "# default\n",
    "# Final validation score: 0.8783267769946155\n",
    "# Overall final score: 0.10180127772818637"
   ]
  }
 ],
 "metadata": {
  "kernelspec": {
   "display_name": "Python 3.9.12 ('jupyter_default')",
   "language": "python",
   "name": "python3"
  },
  "language_info": {
   "codemirror_mode": {
    "name": "ipython",
    "version": 3
   },
   "file_extension": ".py",
   "mimetype": "text/x-python",
   "name": "python",
   "nbconvert_exporter": "python",
   "pygments_lexer": "ipython3",
   "version": "3.9.12"
  },
  "orig_nbformat": 4,
  "vscode": {
   "interpreter": {
    "hash": "23a8a6843721b26098060b435da282c6499d0f0384483463012990926fcfc80c"
   }
  }
 },
 "nbformat": 4,
 "nbformat_minor": 2
}
