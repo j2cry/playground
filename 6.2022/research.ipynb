{
 "cells": [
  {
   "cell_type": "code",
   "execution_count": 1,
   "metadata": {},
   "outputs": [],
   "source": [
    "import auxiliary as aux\n",
    "\n",
    "import numpy as np\n",
    "import pandas as pd\n",
    "import matplotlib.pyplot as plt\n",
    "\n",
    "from sklearn.pipeline import make_pipeline\n",
    "\n",
    "from sklearn.experimental import enable_iterative_imputer\n",
    "from sklearn.impute import SimpleImputer, IterativeImputer\n",
    "from sklearn.linear_model import SGDRegressor\n",
    "from sklearn.tree import DecisionTreeRegressor\n",
    "\n",
    "from lightgbm import LGBMRegressor\n",
    "from xgboost import XGBRegressor\n",
    "\n",
    "import tensorflow as tf\n",
    "from keras.models import Sequential\n",
    "from keras.layers import Dense, Input, BatchNormalization\n",
    "\n",
    "\n",
    "valid_true, valid = aux.train_valid_split(aux.data, frac=0.0125, seed=19)"
   ]
  },
  {
   "cell_type": "code",
   "execution_count": null,
   "metadata": {},
   "outputs": [],
   "source": [
    "# add_cols = ['F_1_7', 'F_1_12', 'F_1_13'] + ['F_3_19', 'F_3_21']\n",
    "# pred_cols = [*[f'F_1_{n}' for n in range(15) if n not in (7, 12, 13)],\n",
    "#              *[f'F_3_{n}' for n in range(25) if n not in (19, 21)]]"
   ]
  },
  {
   "cell_type": "markdown",
   "metadata": {},
   "source": [
    "## tests"
   ]
  },
  {
   "cell_type": "code",
   "execution_count": 6,
   "metadata": {},
   "outputs": [
    {
     "name": "stderr",
     "output_type": "stream",
     "text": [
      "100%|██████████| 15/15 [08:16<00:00, 33.07s/it, avg. score=0.555]\n",
      "Final validation: 100%|██████████| 55/55 [00:00<00:00, 456.74it/s]\n"
     ]
    },
    {
     "name": "stdout",
     "output_type": "stream",
     "text": [
      "Final validation score: 0.8783267769946143\n",
      "Overall final score: 0.10180127772818622\n",
      "CPU times: user 56min 41s, sys: 55.6 s, total: 57min 36s\n",
      "Wall time: 8min 18s\n"
     ]
    }
   ],
   "source": [
    "# %%time\n",
    "# predicted = aux.ImputeHelper(\n",
    "#     aux.Step(aux.predictor, aux.subcol[4], estimator=LGBMRegressor(random_state=7, n_jobs=-1, n_estimators=1500, num_leaves=29)),\n",
    "#     aux.Step(aux.transformer, 'all', initiator=SimpleImputer()),\n",
    "# ).run(valid, validate_on=valid_true)"
   ]
  },
  {
   "cell_type": "code",
   "execution_count": 7,
   "metadata": {},
   "outputs": [
    {
     "name": "stderr",
     "output_type": "stream",
     "text": [
      "100%|██████████| 15/15 [07:29<00:00, 29.97s/it, avg. score=0.555]\n",
      "Final validation: 100%|██████████| 15/15 [00:00<00:00, 479.14it/s]"
     ]
    },
    {
     "name": "stdout",
     "output_type": "stream",
     "text": [
      "Final validation score: 0.6478440895126936\n",
      "Overall final score: 0.060344738210697677\n",
      "CPU times: user 52min 14s, sys: 45.8 s, total: 52min 59s\n",
      "Wall time: 7min 30s\n"
     ]
    },
    {
     "name": "stderr",
     "output_type": "stream",
     "text": [
      "\n"
     ]
    }
   ],
   "source": [
    "# %%time\n",
    "# # only 4th subset\n",
    "# predicted = aux.ImputeHelper(\n",
    "#     aux.Step(aux.predictor, aux.subcol[4], estimator=LGBMRegressor(random_state=7, n_jobs=-1, n_estimators=1500, num_leaves=29)),\n",
    "# ).run(valid, validate_on=valid_true)"
   ]
  },
  {
   "cell_type": "markdown",
   "metadata": {},
   "source": [
    "__appempts__<br>\n",
    "is improve if less than<br>\n",
    "Final validation score: `0.64784`<br>\n",
    "Overall final score: `0.060344`"
   ]
  },
  {
   "cell_type": "code",
   "execution_count": 6,
   "metadata": {},
   "outputs": [
    {
     "name": "stderr",
     "output_type": "stream",
     "text": [
      "100%|██████████| 15/15 [32:00<00:00, 128.04s/it, avg. score=0.685]\n",
      "Final validation: 100%|██████████| 15/15 [00:00<00:00, 346.49it/s]\n"
     ]
    },
    {
     "name": "stdout",
     "output_type": "stream",
     "text": [
      "Final validation score: 0.7726241830803292\n",
      "Overall final score: 0.0714207626651449\n"
     ]
    }
   ],
   "source": [
    "# predicted = aux.ImputeHelper(\n",
    "#     aux.Step(aux.predictor, aux.subcol[4], estimator=XGBRegressor(random_state=7, n_jobs=-1, n_estimators=1000, max_leaves=29)),\n",
    "# ).run(valid, validate_on=valid_true)"
   ]
  },
  {
   "cell_type": "code",
   "execution_count": 8,
   "metadata": {},
   "outputs": [
    {
     "name": "stdout",
     "output_type": "stream",
     "text": [
      "Using `@parameter.initiator.allowed('any')` is redundant\n"
     ]
    },
    {
     "name": "stderr",
     "output_type": "stream",
     "text": [
      "Initiate values: 100%|██████████| 15/15 [06:51<00:00, 27.40s/it, avg. score=0.555]\n",
      "100%|██████████| 15/15 [23:32<00:00, 94.20s/it, avg. score=0.258]\n",
      "Final validation: 100%|██████████| 15/15 [00:00<00:00, 470.49it/s]"
     ]
    },
    {
     "name": "stdout",
     "output_type": "stream",
     "text": [
      "Final validation score: 0.5392914307519079\n",
      "Overall final score: 0.04965443938319474\n"
     ]
    },
    {
     "name": "stderr",
     "output_type": "stream",
     "text": [
      "\n"
     ]
    }
   ],
   "source": [
    "predicted = aux.ImputeHelper(\n",
    "    aux.Step(aux.predictor, aux.subcol[4],\n",
    "             initiator=LGBMRegressor(random_state=7, n_jobs=-1, n_estimators=1500, num_leaves=29),\n",
    "             estimator=LGBMRegressor(random_state=11, n_jobs=-1, n_estimators=5000, num_leaves=37)),\n",
    ").run(valid, validate_on=valid_true)\n",
    "# Final validation score: 0.5392914307519079\n",
    "# Overall final score: 0.04965443938319474"
   ]
  },
  {
   "cell_type": "markdown",
   "metadata": {},
   "source": [
    "try below"
   ]
  },
  {
   "cell_type": "code",
   "execution_count": 2,
   "metadata": {},
   "outputs": [
    {
     "name": "stderr",
     "output_type": "stream",
     "text": [
      "/home/avagadro/anaconda3/envs/jupyter_default/lib/python3.9/site-packages/sklearn/impute/_iterative.py:699: ConvergenceWarning: [IterativeImputer] Early stopping criterion not reached.\n",
      "  warnings.warn(\n",
      "Final validation: 100%|██████████| 15/15 [00:00<00:00, 463.56it/s]\n"
     ]
    },
    {
     "name": "stdout",
     "output_type": "stream",
     "text": [
      "Final validation score: 0.5731784815583407\n",
      "Overall final score: 0.05217318235972474\n",
      "CPU times: user 1d 2h 29min 11s, sys: 26min 28s, total: 1d 2h 55min 40s\n",
      "Wall time: 3h 46min 10s\n"
     ]
    }
   ],
   "source": [
    "# %%time\n",
    "# predicted = aux.ImputeHelper(\n",
    "#     aux.Step(aux.transformer, aux.subcol[4], initiator=IterativeImputer(LGBMRegressor(n_jobs=-1, n_estimators=5000, num_leaves=37), random_state=11, max_iter=15)),\n",
    "# ).run(valid, validate_on=valid_true)"
   ]
  },
  {
   "cell_type": "code",
   "execution_count": 13,
   "metadata": {},
   "outputs": [
    {
     "name": "stderr",
     "output_type": "stream",
     "text": [
      "Initiate values: 100%|██████████| 15/15 [07:14<00:00, 28.98s/it, avg. score=0.555]\n",
      "Epoch 1 / 5: 100%|██████████| 15/15 [28:38<00:00, 114.57s/it, avg. score=0.25] \n",
      "Epoch 2 / 5: 100%|██████████| 15/15 [26:03<00:00, 104.25s/it, avg. score=0.239]\n",
      "Epoch 3 / 5: 100%|██████████| 15/15 [26:35<00:00, 106.35s/it, avg. score=0.239]\n",
      "Epoch 4 / 5: 100%|██████████| 15/15 [31:25<00:00, 125.72s/it, avg. score=0.239]\n",
      "Epoch 5 / 5: 100%|██████████| 15/15 [27:48<00:00, 111.21s/it, avg. score=0.238]\n",
      "Final validation: 100%|██████████| 15/15 [00:00<00:00, 491.99it/s]\n"
     ]
    },
    {
     "name": "stdout",
     "output_type": "stream",
     "text": [
      "Final validation score: 0.5296390782289352\n",
      "Overall final score: 0.048593891495186274\n"
     ]
    }
   ],
   "source": [
    "# predicted = aux.ImputeHelper(\n",
    "#     aux.Step(aux.mice, aux.subcol[4], epochs=3,  seed=17,\n",
    "#              initiator=LGBMRegressor(random_state=7, n_jobs=-1, n_estimators=1500, num_leaves=29),\n",
    "#              estimator=LGBMRegressor(n_jobs=-1, n_estimators=5000, num_leaves=37)),\n",
    "# ).run(valid, validate_on=valid_true)"
   ]
  },
  {
   "cell_type": "code",
   "execution_count": 2,
   "metadata": {},
   "outputs": [
    {
     "name": "stdout",
     "output_type": "stream",
     "text": [
      "Using `@parameter.initiator.allowed('any')` is redundant\n"
     ]
    },
    {
     "name": "stderr",
     "output_type": "stream",
     "text": [
      "/home/avagadro/anaconda3/envs/jupyter_default/lib/python3.9/site-packages/sklearn/impute/_iterative.py:699: ConvergenceWarning: [IterativeImputer] Early stopping criterion not reached.\n",
      "  warnings.warn(\n",
      "100%|██████████| 15/15 [24:08<00:00, 96.59s/it, avg. score=0.238]\n",
      "Final validation: 100%|██████████| 15/15 [00:00<00:00, 393.42it/s]\n"
     ]
    },
    {
     "name": "stdout",
     "output_type": "stream",
     "text": [
      "Final validation score: 0.5264524264802676\n",
      "Overall final score: 0.04831689151912407\n",
      "CPU times: user 11h 9min 39s, sys: 9min 23s, total: 11h 19min 2s\n",
      "Wall time: 1h 32min 49s\n"
     ]
    }
   ],
   "source": [
    "%%time\n",
    "predicted = aux.ImputeHelper(\n",
    "    aux.Step(aux.predictor, aux.subcol[4],\n",
    "             initiator=IterativeImputer(LGBMRegressor(n_jobs=-1, n_estimators=5000, num_leaves=29), random_state=11, max_iter=5),\n",
    "             estimator=LGBMRegressor(random_state=11, n_jobs=-1, n_estimators=5000, num_leaves=37)),\n",
    ").run(valid, validate_on=valid_true)"
   ]
  },
  {
   "cell_type": "code",
   "execution_count": 3,
   "metadata": {},
   "outputs": [
    {
     "name": "stderr",
     "output_type": "stream",
     "text": [
      "/home/avagadro/anaconda3/envs/jupyter_default/lib/python3.9/site-packages/sklearn/impute/_iterative.py:699: ConvergenceWarning: [IterativeImputer] Early stopping criterion not reached.\n",
      "  warnings.warn(\n",
      "Epoch 1 / 3: 100%|██████████| 15/15 [23:21<00:00, 93.44s/it, avg. score=0.238]\n",
      "Epoch 2 / 3: 100%|██████████| 15/15 [23:59<00:00, 95.99s/it, avg. score=0.239]\n",
      "Epoch 3 / 3: 100%|██████████| 15/15 [24:20<00:00, 97.34s/it, avg. score=0.239]\n",
      "Final validation: 100%|██████████| 15/15 [00:00<00:00, 462.62it/s]\n"
     ]
    },
    {
     "name": "stdout",
     "output_type": "stream",
     "text": [
      "Final validation score: 0.540339984361973\n",
      "Overall final score: 0.049523684565388866\n"
     ]
    }
   ],
   "source": [
    "predicted = aux.ImputeHelper(\n",
    "    aux.Step(aux.mice, aux.subcol[4], epochs=3,  seed=17,\n",
    "             initiator=IterativeImputer(LGBMRegressor(n_jobs=-1, n_estimators=5000, num_leaves=29), random_state=11, max_iter=5),\n",
    "             estimator=LGBMRegressor(n_jobs=-1, n_estimators=5000, num_leaves=37)),\n",
    ").run(valid, validate_on=valid_true)"
   ]
  },
  {
   "cell_type": "code",
   "execution_count": null,
   "metadata": {},
   "outputs": [],
   "source": [
    "# # NN approach\n",
    "# tf.random.set_seed(11)\n",
    "\n",
    "# model = Sequential([\n",
    "#     Input(shape=(25, )),\n",
    "#     Dense(256, activation='tanh'),\n",
    "#     Dense(256, activation='tanh'),\n",
    "#     Dense(15, activation='tanh'),\n",
    "# ])\n",
    "# model.compile(optimizer='adam', loss='mse', metrics='mse')\n",
    "\n",
    "# predicted = aux.ImputeHelper(\n",
    "#     aux.Step(aux.transformer, aux.subcol[1] + aux.subcol[3], initiator=SimpleImputer()),\n",
    "#     aux.Step(aux.onestep_neural, aux.subcol[3] + aux.subcol[4], initiator=SimpleImputer(), model=model, epochs=3),\n",
    "# ).run(valid, validate_on=valid_true)\n",
    "# # it is an improve if is less than\n",
    "# # Final validation score: 0.8783267769946155\n",
    "# # Overall final score: 0.10180127772818637"
   ]
  },
  {
   "cell_type": "markdown",
   "metadata": {},
   "source": [
    "## temp"
   ]
  },
  {
   "cell_type": "code",
   "execution_count": null,
   "metadata": {},
   "outputs": [],
   "source": [
    "predicted.isna().any().any()"
   ]
  },
  {
   "cell_type": "code",
   "execution_count": null,
   "metadata": {},
   "outputs": [],
   "source": [
    "# default\n",
    "# Final validation score: 0.8783267769946155\n",
    "# Overall final score: 0.10180127772818637"
   ]
  }
 ],
 "metadata": {
  "kernelspec": {
   "display_name": "Python 3.9.12 ('jupyter_default')",
   "language": "python",
   "name": "python3"
  },
  "language_info": {
   "codemirror_mode": {
    "name": "ipython",
    "version": 3
   },
   "file_extension": ".py",
   "mimetype": "text/x-python",
   "name": "python",
   "nbconvert_exporter": "python",
   "pygments_lexer": "ipython3",
   "version": "3.9.12"
  },
  "orig_nbformat": 4,
  "vscode": {
   "interpreter": {
    "hash": "23a8a6843721b26098060b435da282c6499d0f0384483463012990926fcfc80c"
   }
  }
 },
 "nbformat": 4,
 "nbformat_minor": 2
}
