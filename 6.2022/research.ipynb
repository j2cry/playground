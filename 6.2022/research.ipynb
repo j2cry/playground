{
 "cells": [
  {
   "cell_type": "code",
   "execution_count": 1,
   "metadata": {},
   "outputs": [],
   "source": [
    "import auxiliary as aux\n",
    "\n",
    "import numpy as np\n",
    "import pandas as pd\n",
    "import matplotlib.pyplot as plt\n",
    "from sklearn.impute import SimpleImputer\n",
    "from lightgbm import LGBMRegressor"
   ]
  },
  {
   "cell_type": "markdown",
   "metadata": {},
   "source": [
    "## best approach"
   ]
  },
  {
   "cell_type": "code",
   "execution_count": 21,
   "metadata": {},
   "outputs": [
    {
     "name": "stderr",
     "output_type": "stream",
     "text": [
      "100%|██████████| 15/15 [23:55<00:00, 95.71s/it] \n"
     ]
    },
    {
     "name": "stdout",
     "output_type": "stream",
     "text": [
      "\n",
      "ML Imputer avg. score: 0.5946655547740444\n"
     ]
    },
    {
     "name": "stderr",
     "output_type": "stream",
     "text": [
      "100%|██████████| 40/40 [00:00<00:00, 41.11it/s]\n"
     ]
    },
    {
     "name": "stdout",
     "output_type": "stream",
     "text": [
      "SimpleStat avg. score: 0.9655820744615067\n"
     ]
    }
   ],
   "source": [
    "# Kaggle: 0.91069\n",
    "predicted = aux.ImputeHelper(\n",
    "    (aux.ml_impute, aux.subcol[4], {'estimator': LGBMRegressor(random_state=7, n_jobs=-1, n_estimators=1500, num_leaves=29), \n",
    "                                    'max_fill_nan_count': np.inf, 'max_train_nan_count': np.inf}),\n",
    "    (aux.simplestat, aux.subcol[1] + aux.subcol[3], SimpleImputer(strategy='mean')),\n",
    ").run(aux.data, inherit=True)"
   ]
  },
  {
   "cell_type": "markdown",
   "metadata": {},
   "source": [
    "## tests"
   ]
  },
  {
   "cell_type": "code",
   "execution_count": 12,
   "metadata": {},
   "outputs": [],
   "source": [
    "# # fill all NaN, train on notNA only (0.98242)\n",
    "# predicted = aux.ImputeHelper(\n",
    "#     (aux.ml_impute, aux.subcol[4], {'estimator': LGBMRegressor(random_state=7, n_jobs=-1, n_estimators=1500, num_leaves=29), \n",
    "#                                     'max_fill_nan_count': np.inf, 'max_train_nan_count': 0}),\n",
    "#     (aux.simplestat, 'all', SimpleImputer(strategy='mean')),\n",
    "# ).run(aux.data, inherit=True)"
   ]
  },
  {
   "cell_type": "code",
   "execution_count": 5,
   "metadata": {},
   "outputs": [],
   "source": [
    "# # fill rows with only 1 NaN, train on notNA only; other NaN fill with mean (1.02633)\n",
    "# predicted = aux.ImputeHelper(\n",
    "#     (aux.ml_impute, aux.subcol[4], {'estimator': LGBMRegressor(random_state=7, n_jobs=-1, n_estimators=1500, num_leaves=29), \n",
    "#                                     'max_fill_nan_count': 1, 'max_train_nan_count': 0}),\n",
    "#     (aux.simplestat, 'all', SimpleImputer(strategy='mean')),\n",
    "# ).run(aux.data, inherit=True)"
   ]
  },
  {
   "cell_type": "code",
   "execution_count": 11,
   "metadata": {},
   "outputs": [],
   "source": [
    "# # fill rows with only 1 NaN, train on whole data; other NaN fill with mean (1.03272)\n",
    "# predicted = aux.ImputeHelper(\n",
    "#     (aux.ml_impute, aux.subcol[4], {'estimator': LGBMRegressor(random_state=7, n_jobs=-1, n_estimators=1500, num_leaves=29), \n",
    "#                                     'max_fill_nan_count': 1, 'max_train_nan_count': np.inf}),\n",
    "#     (aux.simplestat, 'all', SimpleImputer(strategy='mean')),\n",
    "# ).run(aux.data, inherit=True)"
   ]
  },
  {
   "cell_type": "code",
   "execution_count": null,
   "metadata": {},
   "outputs": [],
   "source": []
  },
  {
   "cell_type": "code",
   "execution_count": null,
   "metadata": {},
   "outputs": [],
   "source": [
    "# # fill rows with only 1 NaN, train on notNA only; other NaN fill with group mean\n",
    "# predicted = aux.ImputeHelper(\n",
    "#     (aux.ml_impute, aux.subcol[4], {'estimator': LGBMRegressor(random_state=7, n_jobs=-1, n_estimators=1500, num_leaves=29), \n",
    "#                                     'max_fill_nan_count': 1, 'max_train_nan_count': 0}),\n",
    "#     (aux.groupstat, aux.subcol[2] + aux.subcol[4], {'gcol': ['F_2_2']}),       # F_2_2 nunique = 11, F_2_24 & F_2_10 nquniue = 18\n",
    "# ).run(aux.data, inherit=True)"
   ]
  },
  {
   "cell_type": "code",
   "execution_count": null,
   "metadata": {},
   "outputs": [],
   "source": []
  },
  {
   "cell_type": "code",
   "execution_count": 2,
   "metadata": {},
   "outputs": [
    {
     "name": "stdout",
     "output_type": "stream",
     "text": [
      "Chunks: 6353\n"
     ]
    },
    {
     "name": "stderr",
     "output_type": "stream",
     "text": [
      "  0%|          | 24/6353 [00:34<2:58:22,  1.69s/it] "
     ]
    }
   ],
   "source": [
    "# fill all NaN with cosine similars\n",
    "predicted = aux.ImputeHelper(\n",
    "    (aux.cosine_stats, 'all', {'k': 5000}),\n",
    ").run(aux.data, inherit=True)"
   ]
  },
  {
   "cell_type": "markdown",
   "metadata": {},
   "source": [
    "## subsets 1"
   ]
  },
  {
   "cell_type": "code",
   "execution_count": 6,
   "metadata": {},
   "outputs": [
    {
     "name": "stderr",
     "output_type": "stream",
     "text": [
      "100%|██████████| 15/15 [00:54<00:00,  3.61s/it]\n"
     ]
    },
    {
     "name": "stdout",
     "output_type": "stream",
     "text": [
      "\n",
      "ML Imputer avg. score: 0.9438455290350334\n"
     ]
    }
   ],
   "source": [
    "# fill all NaN, train on whole data\n",
    "predicted = aux.ImputeHelper(\n",
    "    (aux.ml_impute, aux.subcol[1], {'estimator': LGBMRegressor(random_state=7, n_jobs=-1, n_estimators=100, num_leaves=23), \n",
    "                                    'max_fill_nan_count': np.inf, 'max_train_nan_count': np.inf}),\n",
    ").run(aux.data, inherit=True)"
   ]
  },
  {
   "cell_type": "code",
   "execution_count": 7,
   "metadata": {},
   "outputs": [
    {
     "name": "stderr",
     "output_type": "stream",
     "text": [
      "100%|██████████| 15/15 [00:31<00:00,  2.08s/it]\n"
     ]
    },
    {
     "name": "stdout",
     "output_type": "stream",
     "text": [
      "\n",
      "ML Imputer avg. score: 0.9433812251767555\n"
     ]
    }
   ],
   "source": [
    "# fill all NaN, train on notNA only\n",
    "predicted = aux.ImputeHelper(\n",
    "    (aux.ml_impute, aux.subcol[1], {'estimator': LGBMRegressor(random_state=7, n_jobs=-1, n_estimators=100, num_leaves=23), \n",
    "                                    'max_fill_nan_count': np.inf, 'max_train_nan_count': 0}),\n",
    ").run(aux.data, inherit=True)"
   ]
  },
  {
   "cell_type": "code",
   "execution_count": 8,
   "metadata": {},
   "outputs": [
    {
     "name": "stderr",
     "output_type": "stream",
     "text": [
      "100%|██████████| 15/15 [00:49<00:00,  3.31s/it]\n"
     ]
    },
    {
     "name": "stdout",
     "output_type": "stream",
     "text": [
      "\n",
      "ML Imputer avg. score: 0.9438455290350333\n"
     ]
    },
    {
     "name": "stderr",
     "output_type": "stream",
     "text": [
      "100%|██████████| 15/15 [00:00<00:00, 50.85it/s]\n"
     ]
    },
    {
     "name": "stdout",
     "output_type": "stream",
     "text": [
      "SimpleStat avg. score: 0.9390547413431811\n"
     ]
    }
   ],
   "source": [
    "# fill rows with only 1 NaN, train on whole data; other fill with mean\n",
    "predicted = aux.ImputeHelper(\n",
    "    (aux.ml_impute, aux.subcol[1], {'estimator': LGBMRegressor(random_state=7, n_jobs=-1, n_estimators=100, num_leaves=23), \n",
    "                                    'max_fill_nan_count': 1, 'max_train_nan_count': np.inf}),\n",
    "    (aux.simplestat, aux.subcol[1], SimpleImputer(strategy='mean')),\n",
    ").run(aux.data, inherit=True)"
   ]
  },
  {
   "cell_type": "code",
   "execution_count": 9,
   "metadata": {},
   "outputs": [
    {
     "name": "stderr",
     "output_type": "stream",
     "text": [
      "100%|██████████| 15/15 [00:26<00:00,  1.73s/it]\n"
     ]
    },
    {
     "name": "stdout",
     "output_type": "stream",
     "text": [
      "\n",
      "ML Imputer avg. score: 0.9433812251767555\n"
     ]
    },
    {
     "name": "stderr",
     "output_type": "stream",
     "text": [
      "100%|██████████| 15/15 [00:00<00:00, 51.47it/s]\n"
     ]
    },
    {
     "name": "stdout",
     "output_type": "stream",
     "text": [
      "SimpleStat avg. score: 0.9390555595149658\n"
     ]
    }
   ],
   "source": [
    "# fill rows with only 1 NaN, train on notNA only\n",
    "predicted = aux.ImputeHelper(\n",
    "    (aux.ml_impute, aux.subcol[1], {'estimator': LGBMRegressor(random_state=7, n_jobs=-1, n_estimators=100, num_leaves=23), \n",
    "                                    'max_fill_nan_count': 1, 'max_train_nan_count': 0}),\n",
    "    (aux.simplestat, aux.subcol[1], SimpleImputer(strategy='mean')),\n",
    ").run(aux.data, inherit=True)"
   ]
  },
  {
   "cell_type": "markdown",
   "metadata": {},
   "source": [
    "## submission"
   ]
  },
  {
   "cell_type": "code",
   "execution_count": 4,
   "metadata": {},
   "outputs": [
    {
     "name": "stdout",
     "output_type": "stream",
     "text": [
      "Still contain NaN: False\n"
     ]
    },
    {
     "data": {
      "text/html": [
       "<div>\n",
       "<style scoped>\n",
       "    .dataframe tbody tr th:only-of-type {\n",
       "        vertical-align: middle;\n",
       "    }\n",
       "\n",
       "    .dataframe tbody tr th {\n",
       "        vertical-align: top;\n",
       "    }\n",
       "\n",
       "    .dataframe thead th {\n",
       "        text-align: right;\n",
       "    }\n",
       "</style>\n",
       "<table border=\"1\" class=\"dataframe\">\n",
       "  <thead>\n",
       "    <tr style=\"text-align: right;\">\n",
       "      <th></th>\n",
       "      <th>row-col</th>\n",
       "      <th>value</th>\n",
       "    </tr>\n",
       "  </thead>\n",
       "  <tbody>\n",
       "    <tr>\n",
       "      <th>0</th>\n",
       "      <td>0-F_1_14</td>\n",
       "      <td>-0.000905</td>\n",
       "    </tr>\n",
       "    <tr>\n",
       "      <th>1</th>\n",
       "      <td>0-F_3_23</td>\n",
       "      <td>0.000365</td>\n",
       "    </tr>\n",
       "    <tr>\n",
       "      <th>2</th>\n",
       "      <td>1-F_3_24</td>\n",
       "      <td>-0.000817</td>\n",
       "    </tr>\n",
       "    <tr>\n",
       "      <th>3</th>\n",
       "      <td>2-F_1_2</td>\n",
       "      <td>0.000551</td>\n",
       "    </tr>\n",
       "    <tr>\n",
       "      <th>4</th>\n",
       "      <td>2-F_4_2</td>\n",
       "      <td>0.324838</td>\n",
       "    </tr>\n",
       "  </tbody>\n",
       "</table>\n",
       "</div>"
      ],
      "text/plain": [
       "    row-col     value\n",
       "0  0-F_1_14 -0.000905\n",
       "1  0-F_3_23  0.000365\n",
       "2  1-F_3_24 -0.000817\n",
       "3   2-F_1_2  0.000551\n",
       "4   2-F_4_2  0.324838"
      ]
     },
     "execution_count": 4,
     "metadata": {},
     "output_type": "execute_result"
    }
   ],
   "source": [
    "aux.save_submission(predicted)"
   ]
  },
  {
   "cell_type": "code",
   "execution_count": null,
   "metadata": {},
   "outputs": [],
   "source": [
    "#"
   ]
  }
 ],
 "metadata": {
  "kernelspec": {
   "display_name": "Python 3.9.12 ('jupyter_default')",
   "language": "python",
   "name": "python3"
  },
  "language_info": {
   "codemirror_mode": {
    "name": "ipython",
    "version": 3
   },
   "file_extension": ".py",
   "mimetype": "text/x-python",
   "name": "python",
   "nbconvert_exporter": "python",
   "pygments_lexer": "ipython3",
   "version": "3.9.12"
  },
  "orig_nbformat": 4,
  "vscode": {
   "interpreter": {
    "hash": "23a8a6843721b26098060b435da282c6499d0f0384483463012990926fcfc80c"
   }
  }
 },
 "nbformat": 4,
 "nbformat_minor": 2
}
