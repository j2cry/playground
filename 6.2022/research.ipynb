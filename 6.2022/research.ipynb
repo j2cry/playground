{
 "cells": [
  {
   "cell_type": "code",
   "execution_count": 1,
   "metadata": {},
   "outputs": [],
   "source": [
    "import auxiliary as aux\n",
    "\n",
    "import numpy as np\n",
    "import pandas as pd\n",
    "import matplotlib.pyplot as plt\n",
    "from sklearn.impute import SimpleImputer\n",
    "from lightgbm import LGBMRegressor\n",
    "from sklearn.linear_model import SGDRegressor"
   ]
  },
  {
   "cell_type": "markdown",
   "metadata": {},
   "source": [
    "## best approach"
   ]
  },
  {
   "cell_type": "code",
   "execution_count": 21,
   "metadata": {},
   "outputs": [
    {
     "name": "stderr",
     "output_type": "stream",
     "text": [
      "100%|██████████| 15/15 [23:55<00:00, 95.71s/it] \n"
     ]
    },
    {
     "name": "stdout",
     "output_type": "stream",
     "text": [
      "\n",
      "ML Imputer avg. score: 0.5946655547740444\n"
     ]
    },
    {
     "name": "stderr",
     "output_type": "stream",
     "text": [
      "100%|██████████| 40/40 [00:00<00:00, 41.11it/s]\n"
     ]
    },
    {
     "name": "stdout",
     "output_type": "stream",
     "text": [
      "SimpleStat avg. score: 0.9655820744615067\n"
     ]
    }
   ],
   "source": [
    "predicted = aux.ImputeHelper(\n",
    "    aux.Step(aux.predictor, aux.subcol[4], estimator=LGBMRegressor(random_state=7, n_jobs=-1, n_estimators=1500, num_leaves=29)),\n",
    "    aux.Step(aux.simplestat, aux.subcol[1] + aux.subcol[3], imputer=SimpleImputer(strategy='mean')),\n",
    ").run(aux.data)"
   ]
  },
  {
   "cell_type": "markdown",
   "metadata": {},
   "source": [
    "## tests"
   ]
  },
  {
   "cell_type": "code",
   "execution_count": 9,
   "metadata": {},
   "outputs": [
    {
     "name": "stderr",
     "output_type": "stream",
     "text": [
      "Collect remapper: 100%|██████████| 80/80 [00:02<00:00, 39.02it/s]\n"
     ]
    }
   ],
   "source": [
    "# Kaggle 1.41\n",
    "# predicted = aux.ImputeHelper(\n",
    "#     aux.Step(aux.mean_matching, 'all', N=50000, init=SimpleImputer(), autosplit=False, backend='threading'),\n",
    "# ).run(aux.data)"
   ]
  },
  {
   "cell_type": "code",
   "execution_count": 7,
   "metadata": {},
   "outputs": [],
   "source": [
    "# TRY THIS with different N: 500 / 5000 / 25000\n",
    "predicted = aux.ImputeHelper(\n",
    "    aux.Step(aux.predictor, aux.subcol[4], estimator=LGBMRegressor(random_state=7, n_jobs=-1, n_estimators=1500, num_leaves=29)),\n",
    "    aux.Step(aux.mean_matching, aux.subcol[1] + aux.subcol[3], N=5000, init=LGBMRegressor(random_state=7, n_jobs=-1, n_estimators=5, num_leaves=23), backend='threading'),\n",
    ").run(aux.data)"
   ]
  },
  {
   "cell_type": "code",
   "execution_count": 8,
   "metadata": {},
   "outputs": [],
   "source": [
    "# Kaggle 1.41\n",
    "# predicted = aux.ImputeHelper(\n",
    "#     aux.Step(aux.mean_matching, 'all', N=5000, init=LGBMRegressor(random_state=7, n_jobs=-1, n_estimators=5, num_leaves=7), backend='threading'),\n",
    "# ).run(aux.data)"
   ]
  },
  {
   "cell_type": "code",
   "execution_count": 10,
   "metadata": {},
   "outputs": [],
   "source": [
    "predicted = aux.ImputeHelper(\n",
    "    aux.Step(aux.mean_matching, 'all', N=5000, init=LGBMRegressor(random_state=7, n_jobs=-1, n_estimators=5, num_leaves=7), backend='threading', autosplit=False),\n",
    ").run(aux.data)"
   ]
  },
  {
   "cell_type": "code",
   "execution_count": null,
   "metadata": {},
   "outputs": [],
   "source": [
    "# TRY THIS\n",
    "predicted = aux.ImputeHelper(\n",
    "    aux.Step(aux.mice, 'all', estimator=SGDRegressor(random_state=7, max_iter=1000), epochs=5, autosplit=False),\n",
    ").run(aux.data)"
   ]
  },
  {
   "cell_type": "code",
   "execution_count": 3,
   "metadata": {},
   "outputs": [
    {
     "name": "stderr",
     "output_type": "stream",
     "text": [
      "Epoch 1 / 5: 100%|██████████| 55/55 [05:38<00:00,  6.15s/it]\n"
     ]
    },
    {
     "name": "stdout",
     "output_type": "stream",
     "text": [
      "Epoch 1 avg. score: 1.3714165062858503\n"
     ]
    },
    {
     "name": "stderr",
     "output_type": "stream",
     "text": [
      "Epoch 2 / 5: 100%|██████████| 55/55 [05:51<00:00,  6.39s/it]\n"
     ]
    },
    {
     "name": "stdout",
     "output_type": "stream",
     "text": [
      "Epoch 2 avg. score: 1.359751425894781\n"
     ]
    },
    {
     "name": "stderr",
     "output_type": "stream",
     "text": [
      "Epoch 3 / 5: 100%|██████████| 55/55 [06:21<00:00,  6.93s/it]\n"
     ]
    },
    {
     "name": "stdout",
     "output_type": "stream",
     "text": [
      "Epoch 3 avg. score: 1.3555604176610678\n"
     ]
    },
    {
     "name": "stderr",
     "output_type": "stream",
     "text": [
      "Epoch 4 / 5: 100%|██████████| 55/55 [07:06<00:00,  7.75s/it]\n"
     ]
    },
    {
     "name": "stdout",
     "output_type": "stream",
     "text": [
      "Epoch 4 avg. score: 1.354903678820146\n"
     ]
    },
    {
     "name": "stderr",
     "output_type": "stream",
     "text": [
      "Epoch 5 / 5: 100%|██████████| 55/55 [06:16<00:00,  6.84s/it]\n"
     ]
    },
    {
     "name": "stdout",
     "output_type": "stream",
     "text": [
      "Epoch 5 avg. score: 1.354281487980924\n"
     ]
    }
   ],
   "source": [
    "# TRY THIS\n",
    "predicted = aux.ImputeHelper(\n",
    "    aux.Step(aux.mice, 'all', estimator=LGBMRegressor(random_state=7, n_jobs=-1, n_estimators=25, num_leaves=13), epochs=5, seed=7, autosplit=False),\n",
    ").run(aux.data)"
   ]
  },
  {
   "cell_type": "code",
   "execution_count": 4,
   "metadata": {},
   "outputs": [],
   "source": [
    "# predicted = aux.ImputeHelper(\n",
    "#     aux.Step(aux.cosine_stats, aux.subcol[1] + aux.subcol[2], threshold=0.7, backend='loky', chunksize=50, subsample=.0001),\n",
    "# ).run(aux.data)"
   ]
  },
  {
   "cell_type": "markdown",
   "metadata": {},
   "source": [
    "## submission"
   ]
  },
  {
   "cell_type": "code",
   "execution_count": 4,
   "metadata": {},
   "outputs": [
    {
     "name": "stdout",
     "output_type": "stream",
     "text": [
      "Still contain NaN: False\n"
     ]
    },
    {
     "data": {
      "text/html": [
       "<div>\n",
       "<style scoped>\n",
       "    .dataframe tbody tr th:only-of-type {\n",
       "        vertical-align: middle;\n",
       "    }\n",
       "\n",
       "    .dataframe tbody tr th {\n",
       "        vertical-align: top;\n",
       "    }\n",
       "\n",
       "    .dataframe thead th {\n",
       "        text-align: right;\n",
       "    }\n",
       "</style>\n",
       "<table border=\"1\" class=\"dataframe\">\n",
       "  <thead>\n",
       "    <tr style=\"text-align: right;\">\n",
       "      <th></th>\n",
       "      <th>row-col</th>\n",
       "      <th>value</th>\n",
       "    </tr>\n",
       "  </thead>\n",
       "  <tbody>\n",
       "    <tr>\n",
       "      <th>0</th>\n",
       "      <td>0-F_1_14</td>\n",
       "      <td>-0.004600</td>\n",
       "    </tr>\n",
       "    <tr>\n",
       "      <th>1</th>\n",
       "      <td>0-F_3_23</td>\n",
       "      <td>0.001471</td>\n",
       "    </tr>\n",
       "    <tr>\n",
       "      <th>2</th>\n",
       "      <td>1-F_3_24</td>\n",
       "      <td>0.004571</td>\n",
       "    </tr>\n",
       "    <tr>\n",
       "      <th>3</th>\n",
       "      <td>2-F_1_2</td>\n",
       "      <td>0.003069</td>\n",
       "    </tr>\n",
       "    <tr>\n",
       "      <th>4</th>\n",
       "      <td>2-F_4_2</td>\n",
       "      <td>0.211759</td>\n",
       "    </tr>\n",
       "  </tbody>\n",
       "</table>\n",
       "</div>"
      ],
      "text/plain": [
       "    row-col     value\n",
       "0  0-F_1_14 -0.004600\n",
       "1  0-F_3_23  0.001471\n",
       "2  1-F_3_24  0.004571\n",
       "3   2-F_1_2  0.003069\n",
       "4   2-F_4_2  0.211759"
      ]
     },
     "execution_count": 4,
     "metadata": {},
     "output_type": "execute_result"
    }
   ],
   "source": [
    "aux.save_submission(predicted)"
   ]
  },
  {
   "cell_type": "code",
   "execution_count": null,
   "metadata": {},
   "outputs": [],
   "source": [
    "#"
   ]
  }
 ],
 "metadata": {
  "kernelspec": {
   "display_name": "Python 3.9.12 ('jupyter_default')",
   "language": "python",
   "name": "python3"
  },
  "language_info": {
   "codemirror_mode": {
    "name": "ipython",
    "version": 3
   },
   "file_extension": ".py",
   "mimetype": "text/x-python",
   "name": "python",
   "nbconvert_exporter": "python",
   "pygments_lexer": "ipython3",
   "version": "3.9.12"
  },
  "orig_nbformat": 4,
  "vscode": {
   "interpreter": {
    "hash": "23a8a6843721b26098060b435da282c6499d0f0384483463012990926fcfc80c"
   }
  }
 },
 "nbformat": 4,
 "nbformat_minor": 2
}
