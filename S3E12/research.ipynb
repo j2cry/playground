{
 "cells": [
  {
   "cell_type": "code",
   "execution_count": 14,
   "metadata": {},
   "outputs": [],
   "source": [
    "import numpy as np\n",
    "import pandas as pd\n",
    "from lightgbm import LGBMClassifier\n",
    "from sklearn.model_selection import StratifiedKFold\n",
    "from sklearn.pipeline import make_pipeline\n",
    "from sklearn.base import BaseEstimator, TransformerMixin\n",
    "import sklearn.preprocessing as pre\n",
    "from transforming import WithSelected\n",
    "\n",
    "from sklearn.metrics import f1_score, roc_auc_score, ConfusionMatrixDisplay\n",
    "# from sklearn.linear_model import SGDClassifier"
   ]
  },
  {
   "attachments": {},
   "cell_type": "markdown",
   "metadata": {},
   "source": [
    "__loading__"
   ]
  },
  {
   "cell_type": "code",
   "execution_count": 4,
   "metadata": {},
   "outputs": [],
   "source": [
    "source = pd.read_csv('data/train.csv')\n",
    "test = pd.read_csv('data/test.csv')"
   ]
  },
  {
   "cell_type": "code",
   "execution_count": null,
   "metadata": {},
   "outputs": [],
   "source": [
    "# class MeanBy(BaseEstimator, TransformerMixin):\n",
    "#     def __init__(self, by=None):\n",
    "#         self.__mean = None\n",
    "#         self.__basic_mean = None\n",
    "#         self.__by = by\n",
    "    \n",
    "#     def fit(self, X, y=None):\n",
    "#         df = X.copy()\n",
    "#         self.__mean = df.groupby(self.__by).mean()\n",
    "#         self.__basic_mean = df.mean()\n",
    "#         return self\n",
    "\n",
    "#     def transform(self, X, y=None):\n",
    "#         X = X.copy()\n",
    "#         if self.__by in X.columns:\n",
    "#             return X.merge(self.__mean, on=self.__by, suffixes=('', '_mean'))\n",
    "#         else:\n",
    "#             exists = self.__basic_mean[self.__basic_mean.index.isin(X.columns)]\n",
    "#             X[[f'{f}_mean' for f in exists.index]] = exists\n",
    "#             return X"
   ]
  },
  {
   "cell_type": "code",
   "execution_count": null,
   "metadata": {},
   "outputs": [],
   "source": []
  },
  {
   "attachments": {},
   "cell_type": "markdown",
   "metadata": {},
   "source": [
    "__preprocessing__"
   ]
  },
  {
   "cell_type": "code",
   "execution_count": 48,
   "metadata": {},
   "outputs": [
    {
     "data": {
      "text/html": [
       "<div>\n",
       "<style scoped>\n",
       "    .dataframe tbody tr th:only-of-type {\n",
       "        vertical-align: middle;\n",
       "    }\n",
       "\n",
       "    .dataframe tbody tr th {\n",
       "        vertical-align: top;\n",
       "    }\n",
       "\n",
       "    .dataframe thead th {\n",
       "        text-align: right;\n",
       "    }\n",
       "</style>\n",
       "<table border=\"1\" class=\"dataframe\">\n",
       "  <thead>\n",
       "    <tr style=\"text-align: right;\">\n",
       "      <th></th>\n",
       "      <th>gravity</th>\n",
       "      <th>ph</th>\n",
       "      <th>osmo</th>\n",
       "      <th>cond</th>\n",
       "      <th>urea</th>\n",
       "      <th>calc</th>\n",
       "      <th>gravity_bins</th>\n",
       "      <th>ph_bins</th>\n",
       "      <th>osmo_bins</th>\n",
       "      <th>cond_bins</th>\n",
       "      <th>urea_bins</th>\n",
       "      <th>calc_bins</th>\n",
       "    </tr>\n",
       "  </thead>\n",
       "  <tbody>\n",
       "    <tr>\n",
       "      <th>0</th>\n",
       "      <td>1.013</td>\n",
       "      <td>6.19</td>\n",
       "      <td>443</td>\n",
       "      <td>14.8</td>\n",
       "      <td>124</td>\n",
       "      <td>1.45</td>\n",
       "      <td>1.0</td>\n",
       "      <td>7.0</td>\n",
       "      <td>1.0</td>\n",
       "      <td>1.0</td>\n",
       "      <td>0.0</td>\n",
       "      <td>1.0</td>\n",
       "    </tr>\n",
       "    <tr>\n",
       "      <th>1</th>\n",
       "      <td>1.025</td>\n",
       "      <td>5.40</td>\n",
       "      <td>703</td>\n",
       "      <td>23.6</td>\n",
       "      <td>394</td>\n",
       "      <td>4.18</td>\n",
       "      <td>4.0</td>\n",
       "      <td>1.0</td>\n",
       "      <td>2.0</td>\n",
       "      <td>4.0</td>\n",
       "      <td>5.0</td>\n",
       "      <td>3.0</td>\n",
       "    </tr>\n",
       "    <tr>\n",
       "      <th>2</th>\n",
       "      <td>1.009</td>\n",
       "      <td>6.13</td>\n",
       "      <td>371</td>\n",
       "      <td>24.5</td>\n",
       "      <td>159</td>\n",
       "      <td>9.04</td>\n",
       "      <td>0.0</td>\n",
       "      <td>6.0</td>\n",
       "      <td>0.0</td>\n",
       "      <td>4.0</td>\n",
       "      <td>1.0</td>\n",
       "      <td>4.0</td>\n",
       "    </tr>\n",
       "    <tr>\n",
       "      <th>3</th>\n",
       "      <td>1.021</td>\n",
       "      <td>4.91</td>\n",
       "      <td>442</td>\n",
       "      <td>20.8</td>\n",
       "      <td>398</td>\n",
       "      <td>6.63</td>\n",
       "      <td>3.0</td>\n",
       "      <td>0.0</td>\n",
       "      <td>1.0</td>\n",
       "      <td>2.0</td>\n",
       "      <td>5.0</td>\n",
       "      <td>3.0</td>\n",
       "    </tr>\n",
       "    <tr>\n",
       "      <th>4</th>\n",
       "      <td>1.021</td>\n",
       "      <td>5.53</td>\n",
       "      <td>874</td>\n",
       "      <td>17.8</td>\n",
       "      <td>385</td>\n",
       "      <td>2.21</td>\n",
       "      <td>3.0</td>\n",
       "      <td>3.0</td>\n",
       "      <td>4.0</td>\n",
       "      <td>2.0</td>\n",
       "      <td>5.0</td>\n",
       "      <td>1.0</td>\n",
       "    </tr>\n",
       "  </tbody>\n",
       "</table>\n",
       "</div>"
      ],
      "text/plain": [
       "   gravity    ph  osmo  cond  urea  calc  gravity_bins  ph_bins  osmo_bins  \\\n",
       "0    1.013  6.19   443  14.8   124  1.45           1.0      7.0        1.0   \n",
       "1    1.025  5.40   703  23.6   394  4.18           4.0      1.0        2.0   \n",
       "2    1.009  6.13   371  24.5   159  9.04           0.0      6.0        0.0   \n",
       "3    1.021  4.91   442  20.8   398  6.63           3.0      0.0        1.0   \n",
       "4    1.021  5.53   874  17.8   385  2.21           3.0      3.0        4.0   \n",
       "\n",
       "   cond_bins  urea_bins  calc_bins  \n",
       "0        1.0        0.0        1.0  \n",
       "1        4.0        5.0        3.0  \n",
       "2        4.0        1.0        4.0  \n",
       "3        2.0        5.0        3.0  \n",
       "4        2.0        5.0        1.0  "
      ]
     },
     "execution_count": 48,
     "metadata": {},
     "output_type": "execute_result"
    }
   ],
   "source": [
    "X_source = source.drop(columns=['id', 'target'])\n",
    "y = source.target\n",
    "\n",
    "pipe = make_pipeline(\n",
    "    WithSelected(['gravity'], suffix='bins')(\n",
    "        pre.KBinsDiscretizer(5, encode='ordinal', strategy='quantile')\n",
    "    ),\n",
    "    WithSelected(['ph'], suffix='bins')(\n",
    "        pre.KBinsDiscretizer(10, encode='ordinal', strategy='quantile')\n",
    "    ),\n",
    "    WithSelected(['osmo'], suffix='bins')(\n",
    "        pre.KBinsDiscretizer(5, encode='ordinal', strategy='quantile')\n",
    "    ),\n",
    "    WithSelected(['cond'], suffix='bins')(\n",
    "        pre.KBinsDiscretizer(7, encode='ordinal', strategy='quantile')\n",
    "    ),\n",
    "    WithSelected(['urea'], suffix='bins')(\n",
    "        pre.KBinsDiscretizer(7, encode='ordinal', strategy='quantile')\n",
    "    ),\n",
    "    WithSelected(['calc'], suffix='bins')(\n",
    "        pre.KBinsDiscretizer(5, encode='ordinal', strategy='quantile')\n",
    "    )\n",
    ")\n",
    "\n",
    "X = pipe.fit_transform(X_source, y)\n",
    "X_test = pipe.transform(test)\n",
    "\n",
    "X.head()"
   ]
  },
  {
   "cell_type": "code",
   "execution_count": null,
   "metadata": {},
   "outputs": [],
   "source": []
  },
  {
   "attachments": {},
   "cell_type": "markdown",
   "metadata": {},
   "source": [
    "__fit & validate__"
   ]
  },
  {
   "cell_type": "code",
   "execution_count": 91,
   "metadata": {},
   "outputs": [
    {
     "name": "stdout",
     "output_type": "stream",
     "text": [
      "Fold: 0; TRAIN ROC AUC=0.78439; TRAIN f1=0.74834 | VALID ROC AUC=0.69918; VALID f1=0.64000\n",
      "Fold: 1; TRAIN ROC AUC=0.78423; TRAIN f1=0.75325 | VALID ROC AUC=0.80098; VALID f1=0.75000\n",
      "Fold: 2; TRAIN ROC AUC=0.78065; TRAIN f1=0.75399 | VALID ROC AUC=0.74937; VALID f1=0.68085\n",
      "Fold: 3; TRAIN ROC AUC=0.79000; TRAIN f1=0.75974 | VALID ROC AUC=0.74248; VALID f1=0.71698\n",
      "Fold: 4; TRAIN ROC AUC=0.79486; TRAIN f1=0.77070 | VALID ROC AUC=0.77706; VALID f1=0.74510\n",
      "Fold: 5; TRAIN ROC AUC=0.78087; TRAIN f1=0.75241 | VALID ROC AUC=0.81740; VALID f1=0.80702\n",
      "Fold: 6; TRAIN ROC AUC=0.77818; TRAIN f1=0.74510 | VALID ROC AUC=0.69505; VALID f1=0.64000\n",
      "MEAN: TRAIN ROC AUC=0.78474; TRAIN f1=0.75479 | VALID ROC AUC=0.75450; VALID f1=0.71142\n"
     ]
    }
   ],
   "source": [
    "# FIT\n",
    "folds = 7\n",
    "# X = source.drop(columns=['id', 'target'])     # basic dataframe\n",
    "X = pipe.fit_transform(X_source, y)\n",
    "\n",
    "\n",
    "metrics = []\n",
    "estimator = LGBMClassifier(n_estimators=250, max_depth=1, n_jobs=-1, random_state=11)\n",
    "kf = StratifiedKFold(n_splits=folds, shuffle=True, random_state=19)\n",
    "for f, (train, valid) in enumerate(kf.split(X, y)):\n",
    "    estimator.fit(X.loc[train], y[train])\n",
    "    \n",
    "    pt = estimator.predict(X.loc[train])\n",
    "    pv = estimator.predict(X.loc[valid])\n",
    "\n",
    "    auc_train = roc_auc_score(pt, y[train])\n",
    "    auc_valid = roc_auc_score(pv, y[valid])\n",
    "    f1_train = f1_score(pt, y[train])\n",
    "    f1_valid = f1_score(pv, y[valid])\n",
    "    metrics.append((auc_train, f1_train, auc_valid, f1_valid))\n",
    "    print(f'Fold: {f}; TRAIN ROC AUC={auc_train:.5f}; TRAIN f1={f1_train:.5f} | VALID ROC AUC={auc_valid:.5f}; VALID f1={f1_valid:.5f}')\n",
    "means = np.mean(metrics, axis=0)\n",
    "print(f'MEAN: TRAIN ROC AUC={means[0]:.5f}; TRAIN f1={means[1]:.5f} | VALID ROC AUC={means[2]:.5f}; VALID f1={means[3]:.5f}')"
   ]
  },
  {
   "cell_type": "code",
   "execution_count": null,
   "metadata": {},
   "outputs": [],
   "source": []
  },
  {
   "attachments": {},
   "cell_type": "markdown",
   "metadata": {},
   "source": [
    "__features selection__"
   ]
  },
  {
   "cell_type": "code",
   "execution_count": null,
   "metadata": {},
   "outputs": [],
   "source": [
    "# TODO"
   ]
  },
  {
   "cell_type": "code",
   "execution_count": 41,
   "metadata": {},
   "outputs": [],
   "source": [
    "# # make shadow features by randomly permuting each column of X\n",
    "# np.random.seed(42)\n",
    "# X_shadow = X.apply(np.random.permutation)\n",
    "# X_shadow.columns = ['shadow_' + feat for feat in X.columns]\n",
    "# X_boruta = pd.concat([X, X_shadow], axis = 1)"
   ]
  },
  {
   "cell_type": "code",
   "execution_count": 46,
   "metadata": {},
   "outputs": [],
   "source": [
    "# metrics = []\n",
    "# estimator = LGBMClassifier(n_jobs=-1, random_state=11)\n",
    "# kf = StratifiedKFold(n_splits=folds, shuffle=True, random_state=19)\n",
    "# for f, (train, valid) in enumerate(kf.split(X_boruta, y)):\n",
    "#     estimator.fit(X_boruta.loc[train], y[train])\n",
    "#     p = estimator.predict(X_boruta.loc[valid])\n",
    "#     auc = roc_auc_score(p, y[valid])\n",
    "#     f1 = f1_score(p, y[valid])\n",
    "#     metrics.append((auc, f1))\n",
    "#     print(f'Fold: {f}; ROC AUC={auc:.5f}; f1={f1:.5f}')\n",
    "# means = np.mean(metrics, axis=1)\n",
    "# print(f'MEAN: ROC AUC={means[0]:.5f}; f1={means[1]:.5f}')"
   ]
  },
  {
   "cell_type": "code",
   "execution_count": 47,
   "metadata": {},
   "outputs": [],
   "source": [
    "# feat_imp_X = estimator.feature_importances_[:len(X.columns)]\n",
    "# feat_imp_shadow = estimator.feature_importances_[len(X.columns):]\n",
    "# hits = feat_imp_X > feat_imp_shadow.max()\n",
    "# hits"
   ]
  },
  {
   "cell_type": "code",
   "execution_count": null,
   "metadata": {},
   "outputs": [],
   "source": []
  },
  {
   "cell_type": "code",
   "execution_count": null,
   "metadata": {},
   "outputs": [],
   "source": [
    "#"
   ]
  }
 ],
 "metadata": {
  "kernelspec": {
   "display_name": "jupyter",
   "language": "python",
   "name": "python3"
  },
  "language_info": {
   "codemirror_mode": {
    "name": "ipython",
    "version": 3
   },
   "file_extension": ".py",
   "mimetype": "text/x-python",
   "name": "python",
   "nbconvert_exporter": "python",
   "pygments_lexer": "ipython3",
   "version": "3.9.16"
  },
  "orig_nbformat": 4
 },
 "nbformat": 4,
 "nbformat_minor": 2
}
