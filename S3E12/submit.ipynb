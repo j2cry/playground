{
 "cells": [
  {
   "cell_type": "code",
   "execution_count": 1,
   "metadata": {},
   "outputs": [],
   "source": [
    "import datetime as dt\n",
    "import pandas as pd\n",
    "from lightgbm import LGBMClassifier\n",
    "from sklearn.metrics import f1_score, roc_auc_score\n",
    "from sklearn.pipeline import make_pipeline\n",
    "import sklearn.preprocessing as pre\n",
    "from transforming import WithSelected"
   ]
  },
  {
   "cell_type": "code",
   "execution_count": 2,
   "metadata": {},
   "outputs": [],
   "source": [
    "source = pd.read_csv('data/train.csv')\n",
    "test = pd.read_csv('data/test.csv')"
   ]
  },
  {
   "cell_type": "code",
   "execution_count": 13,
   "metadata": {},
   "outputs": [],
   "source": [
    "# PREPROCESSING\n",
    "X_source = source.drop(columns=['id', 'target'])\n",
    "y = source.target\n",
    "\n",
    "pipe = make_pipeline(\n",
    "    WithSelected(['gravity'], suffix='bins')(\n",
    "        pre.KBinsDiscretizer(5, encode='ordinal', strategy='quantile')\n",
    "    ),\n",
    "    WithSelected(['ph'], suffix='bins')(\n",
    "        pre.KBinsDiscretizer(10, encode='ordinal', strategy='quantile')\n",
    "    ),\n",
    "    WithSelected(['osmo'], suffix='bins')(\n",
    "        pre.KBinsDiscretizer(5, encode='ordinal', strategy='quantile')\n",
    "    ),\n",
    "    WithSelected(['cond'], suffix='bins')(\n",
    "        pre.KBinsDiscretizer(7, encode='ordinal', strategy='quantile')\n",
    "    ),\n",
    "    WithSelected(['urea'], suffix='bins')(\n",
    "        pre.KBinsDiscretizer(7, encode='ordinal', strategy='quantile')\n",
    "    ),\n",
    "    WithSelected(['calc'], suffix='bins')(\n",
    "        pre.KBinsDiscretizer(5, encode='ordinal', strategy='quantile')\n",
    "    )\n",
    ")\n",
    "\n",
    "X = pipe.fit_transform(X_source, y)\n",
    "X_test = pipe.transform(test.drop(columns=['id']))"
   ]
  },
  {
   "cell_type": "code",
   "execution_count": 9,
   "metadata": {},
   "outputs": [
    {
     "data": {
      "text/plain": [
       "0.7862290985969633"
      ]
     },
     "execution_count": 9,
     "metadata": {},
     "output_type": "execute_result"
    }
   ],
   "source": [
    "# FIT\n",
    "estimator = LGBMClassifier(n_estimators=250, max_depth=1, n_jobs=-1, random_state=11)\n",
    "estimator.fit(X, y)\n",
    "\n",
    "pred = estimator.predict(X)\n",
    "roc_auc_score(pred, y)"
   ]
  },
  {
   "cell_type": "code",
   "execution_count": 14,
   "metadata": {},
   "outputs": [],
   "source": [
    "# PREDICT\n",
    "submission = pd.read_csv('data/sample_submission.csv')\n",
    "submission.target = estimator.predict_proba(X_test).T[1]\n",
    "submission.to_csv(f'submission_{dt.datetime.now().replace(microsecond=0)}.csv', index=False)"
   ]
  },
  {
   "cell_type": "code",
   "execution_count": null,
   "metadata": {},
   "outputs": [],
   "source": []
  },
  {
   "cell_type": "code",
   "execution_count": null,
   "metadata": {},
   "outputs": [],
   "source": [
    "#"
   ]
  }
 ],
 "metadata": {
  "kernelspec": {
   "display_name": "jupyter",
   "language": "python",
   "name": "python3"
  },
  "language_info": {
   "codemirror_mode": {
    "name": "ipython",
    "version": 3
   },
   "file_extension": ".py",
   "mimetype": "text/x-python",
   "name": "python",
   "nbconvert_exporter": "python",
   "pygments_lexer": "ipython3",
   "version": "3.9.16"
  },
  "orig_nbformat": 4
 },
 "nbformat": 4,
 "nbformat_minor": 2
}
